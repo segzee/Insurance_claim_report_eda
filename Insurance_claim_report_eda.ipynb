{
  "cells": [
    {
      "cell_type": "markdown",
      "id": "minor-citizen",
      "metadata": {
        "papermill": {
          "duration": 0.042529,
          "end_time": "2021-05-05T15:55:58.713093",
          "exception": false,
          "start_time": "2021-05-05T15:55:58.670564",
          "status": "completed"
        },
        "tags": [],
        "id": "minor-citizen"
      },
      "source": [
        "# **Auto Insurance; Fraud Claim Prediction Model**\n",
        "\n",
        "Insurance fraud is a deliberate deception perpetrated against or by an insurance company or agent for the purpose of financial gain. Fraud may be committed at different points in the transaction by applicants, policyholders, third-party claimants, or professionals who provide services to claimants. Insurance agents and company employees may also commit insurance fraud. Common frauds include “padding,” or inflating claims; misrepresenting facts on an insurance application; submitting claims for injuries or damage that never occurred; and staging accidents.\n",
        "\n",
        "Auto insurance fraud ranges from misrepresenting facts on insurance applications and inflating insurance claims to staging accidents and submitting claim forms for injuries or damage that never occurred, to false reports of stolen vehicles.\n",
        "\n",
        "***Source***: https://www.iii.org/article/background-on-insurance-fraud"
      ]
    },
    {
      "cell_type": "markdown",
      "id": "sufficient-elements",
      "metadata": {
        "papermill": {
          "duration": 0.041941,
          "end_time": "2021-05-05T15:55:58.796241",
          "exception": false,
          "start_time": "2021-05-05T15:55:58.754300",
          "status": "completed"
        },
        "tags": [],
        "id": "sufficient-elements"
      },
      "source": [
        "# **Problem Statement**\n",
        "” Our objective is to create an interface for insurance company with Machine Learning model in the backend, to identify the fraud claims in the automobile industry.”\n",
        "\n",
        "**H0**: \"*Give data is genuine*\"\n",
        "\n",
        "**H1**: \"*Given data is fraud*\""
      ]
    },
    {
      "cell_type": "code",
      "execution_count": null,
      "id": "improving-heading",
      "metadata": {
        "execution": {
          "iopub.execute_input": "2021-05-05T15:55:58.882824Z",
          "iopub.status.busy": "2021-05-05T15:55:58.881602Z",
          "iopub.status.idle": "2021-05-05T15:55:59.819185Z",
          "shell.execute_reply": "2021-05-05T15:55:59.817994Z"
        },
        "papermill": {
          "duration": 0.981579,
          "end_time": "2021-05-05T15:55:59.819373",
          "exception": false,
          "start_time": "2021-05-05T15:55:58.837794",
          "status": "completed"
        },
        "tags": [],
        "id": "improving-heading"
      },
      "outputs": [],
      "source": [
        "import numpy as np #Linear Algebra library\n",
        "import pandas as pd #Data Analytical library\n",
        "import matplotlib.pyplot as plt #Data Visualisation Library\n",
        "import seaborn as sns #Statistical Visualisation Library"
      ]
    },
    {
      "cell_type": "markdown",
      "id": "unauthorized-check",
      "metadata": {
        "papermill": {
          "duration": 0.040168,
          "end_time": "2021-05-05T15:55:59.914761",
          "exception": false,
          "start_time": "2021-05-05T15:55:59.874593",
          "status": "completed"
        },
        "tags": [],
        "id": "unauthorized-check"
      },
      "source": [
        "### **Loading the Data**\n",
        "Using pandas library, we imported insurance dataset.\n"
      ]
    },
    {
      "cell_type": "code",
      "execution_count": null,
      "id": "still-sauce",
      "metadata": {
        "execution": {
          "iopub.execute_input": "2021-05-05T15:56:00.005479Z",
          "iopub.status.busy": "2021-05-05T15:56:00.004802Z",
          "iopub.status.idle": "2021-05-05T15:56:00.112810Z",
          "shell.execute_reply": "2021-05-05T15:56:00.113305Z"
        },
        "papermill": {
          "duration": 0.156729,
          "end_time": "2021-05-05T15:56:00.113481",
          "exception": false,
          "start_time": "2021-05-05T15:55:59.956752",
          "status": "completed"
        },
        "tags": [],
        "id": "still-sauce",
        "outputId": "c5e19a23-34f4-4fee-8461-e80b5c0e25c6"
      },
      "outputs": [
        {
          "data": {
            "text/html": [
              "<div>\n",
              "<style scoped>\n",
              "    .dataframe tbody tr th:only-of-type {\n",
              "        vertical-align: middle;\n",
              "    }\n",
              "\n",
              "    .dataframe tbody tr th {\n",
              "        vertical-align: top;\n",
              "    }\n",
              "\n",
              "    .dataframe thead th {\n",
              "        text-align: right;\n",
              "    }\n",
              "</style>\n",
              "<table border=\"1\" class=\"dataframe\">\n",
              "  <thead>\n",
              "    <tr style=\"text-align: right;\">\n",
              "      <th></th>\n",
              "      <th>months_as_customer</th>\n",
              "      <th>age</th>\n",
              "      <th>policy_number</th>\n",
              "      <th>policy_bind_date</th>\n",
              "      <th>policy_state</th>\n",
              "      <th>policy_csl</th>\n",
              "      <th>policy_deductable</th>\n",
              "      <th>policy_annual_premium</th>\n",
              "      <th>umbrella_limit</th>\n",
              "      <th>insured_zip</th>\n",
              "      <th>insured_sex</th>\n",
              "      <th>insured_education_level</th>\n",
              "      <th>insured_occupation</th>\n",
              "      <th>insured_hobbies</th>\n",
              "      <th>insured_relationship</th>\n",
              "      <th>capital-gains</th>\n",
              "      <th>capital-loss</th>\n",
              "      <th>incident_date</th>\n",
              "      <th>incident_type</th>\n",
              "      <th>collision_type</th>\n",
              "      <th>incident_severity</th>\n",
              "      <th>authorities_contacted</th>\n",
              "      <th>incident_state</th>\n",
              "      <th>incident_city</th>\n",
              "      <th>incident_location</th>\n",
              "      <th>incident_hour_of_the_day</th>\n",
              "      <th>number_of_vehicles_involved</th>\n",
              "      <th>property_damage</th>\n",
              "      <th>bodily_injuries</th>\n",
              "      <th>witnesses</th>\n",
              "      <th>police_report_available</th>\n",
              "      <th>total_claim_amount</th>\n",
              "      <th>injury_claim</th>\n",
              "      <th>property_claim</th>\n",
              "      <th>vehicle_claim</th>\n",
              "      <th>auto_make</th>\n",
              "      <th>auto_model</th>\n",
              "      <th>auto_year</th>\n",
              "      <th>fraud_reported</th>\n",
              "    </tr>\n",
              "  </thead>\n",
              "  <tbody>\n",
              "    <tr>\n",
              "      <th>0</th>\n",
              "      <td>328</td>\n",
              "      <td>48</td>\n",
              "      <td>521585</td>\n",
              "      <td>17/10/14</td>\n",
              "      <td>OH</td>\n",
              "      <td>250/500</td>\n",
              "      <td>1000</td>\n",
              "      <td>1406.91</td>\n",
              "      <td>0</td>\n",
              "      <td>466132</td>\n",
              "      <td>MALE</td>\n",
              "      <td>MD</td>\n",
              "      <td>craft-repair</td>\n",
              "      <td>sleeping</td>\n",
              "      <td>husband</td>\n",
              "      <td>53300</td>\n",
              "      <td>0</td>\n",
              "      <td>25/01/15</td>\n",
              "      <td>Single Vehicle Collision</td>\n",
              "      <td>Side Collision</td>\n",
              "      <td>Major Damage</td>\n",
              "      <td>Police</td>\n",
              "      <td>SC</td>\n",
              "      <td>Columbus</td>\n",
              "      <td>9935 4th Drive</td>\n",
              "      <td>5</td>\n",
              "      <td>1</td>\n",
              "      <td>YES</td>\n",
              "      <td>1</td>\n",
              "      <td>2</td>\n",
              "      <td>YES</td>\n",
              "      <td>71610</td>\n",
              "      <td>6510</td>\n",
              "      <td>13020</td>\n",
              "      <td>52080</td>\n",
              "      <td>Saab</td>\n",
              "      <td>92x</td>\n",
              "      <td>2004</td>\n",
              "      <td>Y</td>\n",
              "    </tr>\n",
              "    <tr>\n",
              "      <th>1</th>\n",
              "      <td>228</td>\n",
              "      <td>42</td>\n",
              "      <td>342868</td>\n",
              "      <td>27/06/06</td>\n",
              "      <td>IN</td>\n",
              "      <td>250/500</td>\n",
              "      <td>2000</td>\n",
              "      <td>1197.22</td>\n",
              "      <td>5000000</td>\n",
              "      <td>468176</td>\n",
              "      <td>MALE</td>\n",
              "      <td>MD</td>\n",
              "      <td>machine-op-inspct</td>\n",
              "      <td>reading</td>\n",
              "      <td>other-relative</td>\n",
              "      <td>0</td>\n",
              "      <td>0</td>\n",
              "      <td>21/01/15</td>\n",
              "      <td>Vehicle Theft</td>\n",
              "      <td>?</td>\n",
              "      <td>Minor Damage</td>\n",
              "      <td>Police</td>\n",
              "      <td>VA</td>\n",
              "      <td>Riverwood</td>\n",
              "      <td>6608 MLK Hwy</td>\n",
              "      <td>8</td>\n",
              "      <td>1</td>\n",
              "      <td>?</td>\n",
              "      <td>0</td>\n",
              "      <td>0</td>\n",
              "      <td>?</td>\n",
              "      <td>5070</td>\n",
              "      <td>780</td>\n",
              "      <td>780</td>\n",
              "      <td>3510</td>\n",
              "      <td>Mercedes</td>\n",
              "      <td>E400</td>\n",
              "      <td>2007</td>\n",
              "      <td>Y</td>\n",
              "    </tr>\n",
              "    <tr>\n",
              "      <th>2</th>\n",
              "      <td>134</td>\n",
              "      <td>18</td>\n",
              "      <td>687698</td>\n",
              "      <td>06/09/00</td>\n",
              "      <td>OH</td>\n",
              "      <td>100/300</td>\n",
              "      <td>2000</td>\n",
              "      <td>1413.14</td>\n",
              "      <td>5000000</td>\n",
              "      <td>430632</td>\n",
              "      <td>FEMALE</td>\n",
              "      <td>PhD</td>\n",
              "      <td>sales</td>\n",
              "      <td>board-games</td>\n",
              "      <td>own-child</td>\n",
              "      <td>35100</td>\n",
              "      <td>0</td>\n",
              "      <td>22/02/15</td>\n",
              "      <td>Multi-vehicle Collision</td>\n",
              "      <td>Rear Collision</td>\n",
              "      <td>Minor Damage</td>\n",
              "      <td>Police</td>\n",
              "      <td>NY</td>\n",
              "      <td>Columbus</td>\n",
              "      <td>7121 Francis Lane</td>\n",
              "      <td>7</td>\n",
              "      <td>3</td>\n",
              "      <td>NO</td>\n",
              "      <td>2</td>\n",
              "      <td>3</td>\n",
              "      <td>NO</td>\n",
              "      <td>34650</td>\n",
              "      <td>7700</td>\n",
              "      <td>3850</td>\n",
              "      <td>23100</td>\n",
              "      <td>Dodge</td>\n",
              "      <td>RAM</td>\n",
              "      <td>2007</td>\n",
              "      <td>N</td>\n",
              "    </tr>\n",
              "    <tr>\n",
              "      <th>3</th>\n",
              "      <td>256</td>\n",
              "      <td>41</td>\n",
              "      <td>227811</td>\n",
              "      <td>25/05/90</td>\n",
              "      <td>IL</td>\n",
              "      <td>250/500</td>\n",
              "      <td>2000</td>\n",
              "      <td>1415.74</td>\n",
              "      <td>6000000</td>\n",
              "      <td>608117</td>\n",
              "      <td>FEMALE</td>\n",
              "      <td>PhD</td>\n",
              "      <td>armed-forces</td>\n",
              "      <td>board-games</td>\n",
              "      <td>unmarried</td>\n",
              "      <td>48900</td>\n",
              "      <td>-62400</td>\n",
              "      <td>10/01/15</td>\n",
              "      <td>Single Vehicle Collision</td>\n",
              "      <td>Front Collision</td>\n",
              "      <td>Major Damage</td>\n",
              "      <td>Police</td>\n",
              "      <td>OH</td>\n",
              "      <td>Arlington</td>\n",
              "      <td>6956 Maple Drive</td>\n",
              "      <td>5</td>\n",
              "      <td>1</td>\n",
              "      <td>?</td>\n",
              "      <td>1</td>\n",
              "      <td>2</td>\n",
              "      <td>NO</td>\n",
              "      <td>63400</td>\n",
              "      <td>6340</td>\n",
              "      <td>6340</td>\n",
              "      <td>50720</td>\n",
              "      <td>Chevrolet</td>\n",
              "      <td>Tahoe</td>\n",
              "      <td>2014</td>\n",
              "      <td>Y</td>\n",
              "    </tr>\n",
              "    <tr>\n",
              "      <th>4</th>\n",
              "      <td>228</td>\n",
              "      <td>44</td>\n",
              "      <td>367455</td>\n",
              "      <td>06/06/14</td>\n",
              "      <td>IL</td>\n",
              "      <td>500/1000</td>\n",
              "      <td>1000</td>\n",
              "      <td>1583.91</td>\n",
              "      <td>6000000</td>\n",
              "      <td>610706</td>\n",
              "      <td>MALE</td>\n",
              "      <td>Associate</td>\n",
              "      <td>sales</td>\n",
              "      <td>board-games</td>\n",
              "      <td>unmarried</td>\n",
              "      <td>66000</td>\n",
              "      <td>-46000</td>\n",
              "      <td>17/02/15</td>\n",
              "      <td>Vehicle Theft</td>\n",
              "      <td>?</td>\n",
              "      <td>Minor Damage</td>\n",
              "      <td>None</td>\n",
              "      <td>NY</td>\n",
              "      <td>Arlington</td>\n",
              "      <td>3041 3rd Ave</td>\n",
              "      <td>20</td>\n",
              "      <td>1</td>\n",
              "      <td>NO</td>\n",
              "      <td>0</td>\n",
              "      <td>1</td>\n",
              "      <td>NO</td>\n",
              "      <td>6500</td>\n",
              "      <td>1300</td>\n",
              "      <td>650</td>\n",
              "      <td>4550</td>\n",
              "      <td>Accura</td>\n",
              "      <td>RSX</td>\n",
              "      <td>2009</td>\n",
              "      <td>N</td>\n",
              "    </tr>\n",
              "    <tr>\n",
              "      <th>...</th>\n",
              "      <td>...</td>\n",
              "      <td>...</td>\n",
              "      <td>...</td>\n",
              "      <td>...</td>\n",
              "      <td>...</td>\n",
              "      <td>...</td>\n",
              "      <td>...</td>\n",
              "      <td>...</td>\n",
              "      <td>...</td>\n",
              "      <td>...</td>\n",
              "      <td>...</td>\n",
              "      <td>...</td>\n",
              "      <td>...</td>\n",
              "      <td>...</td>\n",
              "      <td>...</td>\n",
              "      <td>...</td>\n",
              "      <td>...</td>\n",
              "      <td>...</td>\n",
              "      <td>...</td>\n",
              "      <td>...</td>\n",
              "      <td>...</td>\n",
              "      <td>...</td>\n",
              "      <td>...</td>\n",
              "      <td>...</td>\n",
              "      <td>...</td>\n",
              "      <td>...</td>\n",
              "      <td>...</td>\n",
              "      <td>...</td>\n",
              "      <td>...</td>\n",
              "      <td>...</td>\n",
              "      <td>...</td>\n",
              "      <td>...</td>\n",
              "      <td>...</td>\n",
              "      <td>...</td>\n",
              "      <td>...</td>\n",
              "      <td>...</td>\n",
              "      <td>...</td>\n",
              "      <td>...</td>\n",
              "      <td>...</td>\n",
              "    </tr>\n",
              "    <tr>\n",
              "      <th>995</th>\n",
              "      <td>3</td>\n",
              "      <td>38</td>\n",
              "      <td>941851</td>\n",
              "      <td>16/07/91</td>\n",
              "      <td>OH</td>\n",
              "      <td>500/1000</td>\n",
              "      <td>1000</td>\n",
              "      <td>1310.80</td>\n",
              "      <td>0</td>\n",
              "      <td>431289</td>\n",
              "      <td>FEMALE</td>\n",
              "      <td>Masters</td>\n",
              "      <td>craft-repair</td>\n",
              "      <td>paintball</td>\n",
              "      <td>unmarried</td>\n",
              "      <td>0</td>\n",
              "      <td>0</td>\n",
              "      <td>22/02/15</td>\n",
              "      <td>Single Vehicle Collision</td>\n",
              "      <td>Front Collision</td>\n",
              "      <td>Minor Damage</td>\n",
              "      <td>Fire</td>\n",
              "      <td>NC</td>\n",
              "      <td>Northbrook</td>\n",
              "      <td>6045 Andromedia St</td>\n",
              "      <td>20</td>\n",
              "      <td>1</td>\n",
              "      <td>YES</td>\n",
              "      <td>0</td>\n",
              "      <td>1</td>\n",
              "      <td>?</td>\n",
              "      <td>87200</td>\n",
              "      <td>17440</td>\n",
              "      <td>8720</td>\n",
              "      <td>61040</td>\n",
              "      <td>Honda</td>\n",
              "      <td>Accord</td>\n",
              "      <td>2006</td>\n",
              "      <td>N</td>\n",
              "    </tr>\n",
              "    <tr>\n",
              "      <th>996</th>\n",
              "      <td>285</td>\n",
              "      <td>41</td>\n",
              "      <td>186934</td>\n",
              "      <td>05/01/14</td>\n",
              "      <td>IL</td>\n",
              "      <td>100/300</td>\n",
              "      <td>1000</td>\n",
              "      <td>1436.79</td>\n",
              "      <td>0</td>\n",
              "      <td>608177</td>\n",
              "      <td>FEMALE</td>\n",
              "      <td>PhD</td>\n",
              "      <td>prof-specialty</td>\n",
              "      <td>sleeping</td>\n",
              "      <td>wife</td>\n",
              "      <td>70900</td>\n",
              "      <td>0</td>\n",
              "      <td>24/01/15</td>\n",
              "      <td>Single Vehicle Collision</td>\n",
              "      <td>Rear Collision</td>\n",
              "      <td>Major Damage</td>\n",
              "      <td>Fire</td>\n",
              "      <td>SC</td>\n",
              "      <td>Northbend</td>\n",
              "      <td>3092 Texas Drive</td>\n",
              "      <td>23</td>\n",
              "      <td>1</td>\n",
              "      <td>YES</td>\n",
              "      <td>2</td>\n",
              "      <td>3</td>\n",
              "      <td>?</td>\n",
              "      <td>108480</td>\n",
              "      <td>18080</td>\n",
              "      <td>18080</td>\n",
              "      <td>72320</td>\n",
              "      <td>Volkswagen</td>\n",
              "      <td>Passat</td>\n",
              "      <td>2015</td>\n",
              "      <td>N</td>\n",
              "    </tr>\n",
              "    <tr>\n",
              "      <th>997</th>\n",
              "      <td>130</td>\n",
              "      <td>34</td>\n",
              "      <td>918516</td>\n",
              "      <td>17/02/03</td>\n",
              "      <td>OH</td>\n",
              "      <td>250/500</td>\n",
              "      <td>500</td>\n",
              "      <td>1383.49</td>\n",
              "      <td>3000000</td>\n",
              "      <td>442797</td>\n",
              "      <td>FEMALE</td>\n",
              "      <td>Masters</td>\n",
              "      <td>armed-forces</td>\n",
              "      <td>bungie-jumping</td>\n",
              "      <td>other-relative</td>\n",
              "      <td>35100</td>\n",
              "      <td>0</td>\n",
              "      <td>23/01/15</td>\n",
              "      <td>Multi-vehicle Collision</td>\n",
              "      <td>Side Collision</td>\n",
              "      <td>Minor Damage</td>\n",
              "      <td>Police</td>\n",
              "      <td>NC</td>\n",
              "      <td>Arlington</td>\n",
              "      <td>7629 5th St</td>\n",
              "      <td>4</td>\n",
              "      <td>3</td>\n",
              "      <td>?</td>\n",
              "      <td>2</td>\n",
              "      <td>3</td>\n",
              "      <td>YES</td>\n",
              "      <td>67500</td>\n",
              "      <td>7500</td>\n",
              "      <td>7500</td>\n",
              "      <td>52500</td>\n",
              "      <td>Suburu</td>\n",
              "      <td>Impreza</td>\n",
              "      <td>1996</td>\n",
              "      <td>N</td>\n",
              "    </tr>\n",
              "    <tr>\n",
              "      <th>998</th>\n",
              "      <td>458</td>\n",
              "      <td>62</td>\n",
              "      <td>533940</td>\n",
              "      <td>18/11/11</td>\n",
              "      <td>IL</td>\n",
              "      <td>500/1000</td>\n",
              "      <td>2000</td>\n",
              "      <td>1356.92</td>\n",
              "      <td>5000000</td>\n",
              "      <td>441714</td>\n",
              "      <td>MALE</td>\n",
              "      <td>Associate</td>\n",
              "      <td>handlers-cleaners</td>\n",
              "      <td>base-jumping</td>\n",
              "      <td>wife</td>\n",
              "      <td>0</td>\n",
              "      <td>0</td>\n",
              "      <td>26/02/15</td>\n",
              "      <td>Single Vehicle Collision</td>\n",
              "      <td>Rear Collision</td>\n",
              "      <td>Major Damage</td>\n",
              "      <td>Other</td>\n",
              "      <td>NY</td>\n",
              "      <td>Arlington</td>\n",
              "      <td>6128 Elm Lane</td>\n",
              "      <td>2</td>\n",
              "      <td>1</td>\n",
              "      <td>?</td>\n",
              "      <td>0</td>\n",
              "      <td>1</td>\n",
              "      <td>YES</td>\n",
              "      <td>46980</td>\n",
              "      <td>5220</td>\n",
              "      <td>5220</td>\n",
              "      <td>36540</td>\n",
              "      <td>Audi</td>\n",
              "      <td>A5</td>\n",
              "      <td>1998</td>\n",
              "      <td>N</td>\n",
              "    </tr>\n",
              "    <tr>\n",
              "      <th>999</th>\n",
              "      <td>456</td>\n",
              "      <td>60</td>\n",
              "      <td>556080</td>\n",
              "      <td>11/11/96</td>\n",
              "      <td>OH</td>\n",
              "      <td>250/500</td>\n",
              "      <td>1000</td>\n",
              "      <td>766.19</td>\n",
              "      <td>0</td>\n",
              "      <td>612260</td>\n",
              "      <td>FEMALE</td>\n",
              "      <td>Associate</td>\n",
              "      <td>sales</td>\n",
              "      <td>kayaking</td>\n",
              "      <td>husband</td>\n",
              "      <td>0</td>\n",
              "      <td>0</td>\n",
              "      <td>26/02/15</td>\n",
              "      <td>Parked Car</td>\n",
              "      <td>?</td>\n",
              "      <td>Minor Damage</td>\n",
              "      <td>Police</td>\n",
              "      <td>WV</td>\n",
              "      <td>Columbus</td>\n",
              "      <td>1416 Cherokee Ridge</td>\n",
              "      <td>6</td>\n",
              "      <td>1</td>\n",
              "      <td>?</td>\n",
              "      <td>0</td>\n",
              "      <td>3</td>\n",
              "      <td>?</td>\n",
              "      <td>5060</td>\n",
              "      <td>460</td>\n",
              "      <td>920</td>\n",
              "      <td>3680</td>\n",
              "      <td>Mercedes</td>\n",
              "      <td>E400</td>\n",
              "      <td>2007</td>\n",
              "      <td>N</td>\n",
              "    </tr>\n",
              "  </tbody>\n",
              "</table>\n",
              "<p>1000 rows × 39 columns</p>\n",
              "</div>"
            ],
            "text/plain": [
              "     months_as_customer  age  policy_number policy_bind_date policy_state  \\\n",
              "0                   328   48         521585         17/10/14           OH   \n",
              "1                   228   42         342868         27/06/06           IN   \n",
              "2                   134   18         687698         06/09/00           OH   \n",
              "3                   256   41         227811         25/05/90           IL   \n",
              "4                   228   44         367455         06/06/14           IL   \n",
              "..                  ...  ...            ...              ...          ...   \n",
              "995                   3   38         941851         16/07/91           OH   \n",
              "996                 285   41         186934         05/01/14           IL   \n",
              "997                 130   34         918516         17/02/03           OH   \n",
              "998                 458   62         533940         18/11/11           IL   \n",
              "999                 456   60         556080         11/11/96           OH   \n",
              "\n",
              "    policy_csl  policy_deductable  policy_annual_premium  umbrella_limit  \\\n",
              "0      250/500               1000                1406.91               0   \n",
              "1      250/500               2000                1197.22         5000000   \n",
              "2      100/300               2000                1413.14         5000000   \n",
              "3      250/500               2000                1415.74         6000000   \n",
              "4     500/1000               1000                1583.91         6000000   \n",
              "..         ...                ...                    ...             ...   \n",
              "995   500/1000               1000                1310.80               0   \n",
              "996    100/300               1000                1436.79               0   \n",
              "997    250/500                500                1383.49         3000000   \n",
              "998   500/1000               2000                1356.92         5000000   \n",
              "999    250/500               1000                 766.19               0   \n",
              "\n",
              "     insured_zip insured_sex insured_education_level insured_occupation  \\\n",
              "0         466132        MALE                      MD       craft-repair   \n",
              "1         468176        MALE                      MD  machine-op-inspct   \n",
              "2         430632      FEMALE                     PhD              sales   \n",
              "3         608117      FEMALE                     PhD       armed-forces   \n",
              "4         610706        MALE               Associate              sales   \n",
              "..           ...         ...                     ...                ...   \n",
              "995       431289      FEMALE                 Masters       craft-repair   \n",
              "996       608177      FEMALE                     PhD     prof-specialty   \n",
              "997       442797      FEMALE                 Masters       armed-forces   \n",
              "998       441714        MALE               Associate  handlers-cleaners   \n",
              "999       612260      FEMALE               Associate              sales   \n",
              "\n",
              "    insured_hobbies insured_relationship  capital-gains  capital-loss  \\\n",
              "0          sleeping              husband          53300             0   \n",
              "1           reading       other-relative              0             0   \n",
              "2       board-games            own-child          35100             0   \n",
              "3       board-games            unmarried          48900        -62400   \n",
              "4       board-games            unmarried          66000        -46000   \n",
              "..              ...                  ...            ...           ...   \n",
              "995       paintball            unmarried              0             0   \n",
              "996        sleeping                 wife          70900             0   \n",
              "997  bungie-jumping       other-relative          35100             0   \n",
              "998    base-jumping                 wife              0             0   \n",
              "999        kayaking              husband              0             0   \n",
              "\n",
              "    incident_date             incident_type   collision_type  \\\n",
              "0        25/01/15  Single Vehicle Collision   Side Collision   \n",
              "1        21/01/15             Vehicle Theft                ?   \n",
              "2        22/02/15   Multi-vehicle Collision   Rear Collision   \n",
              "3        10/01/15  Single Vehicle Collision  Front Collision   \n",
              "4        17/02/15             Vehicle Theft                ?   \n",
              "..            ...                       ...              ...   \n",
              "995      22/02/15  Single Vehicle Collision  Front Collision   \n",
              "996      24/01/15  Single Vehicle Collision   Rear Collision   \n",
              "997      23/01/15   Multi-vehicle Collision   Side Collision   \n",
              "998      26/02/15  Single Vehicle Collision   Rear Collision   \n",
              "999      26/02/15                Parked Car                ?   \n",
              "\n",
              "    incident_severity authorities_contacted incident_state incident_city  \\\n",
              "0        Major Damage                Police             SC      Columbus   \n",
              "1        Minor Damage                Police             VA     Riverwood   \n",
              "2        Minor Damage                Police             NY      Columbus   \n",
              "3        Major Damage                Police             OH     Arlington   \n",
              "4        Minor Damage                  None             NY     Arlington   \n",
              "..                ...                   ...            ...           ...   \n",
              "995      Minor Damage                  Fire             NC    Northbrook   \n",
              "996      Major Damage                  Fire             SC     Northbend   \n",
              "997      Minor Damage                Police             NC     Arlington   \n",
              "998      Major Damage                 Other             NY     Arlington   \n",
              "999      Minor Damage                Police             WV      Columbus   \n",
              "\n",
              "       incident_location  incident_hour_of_the_day  \\\n",
              "0         9935 4th Drive                         5   \n",
              "1           6608 MLK Hwy                         8   \n",
              "2      7121 Francis Lane                         7   \n",
              "3       6956 Maple Drive                         5   \n",
              "4           3041 3rd Ave                        20   \n",
              "..                   ...                       ...   \n",
              "995   6045 Andromedia St                        20   \n",
              "996     3092 Texas Drive                        23   \n",
              "997          7629 5th St                         4   \n",
              "998        6128 Elm Lane                         2   \n",
              "999  1416 Cherokee Ridge                         6   \n",
              "\n",
              "     number_of_vehicles_involved property_damage  bodily_injuries  witnesses  \\\n",
              "0                              1             YES                1          2   \n",
              "1                              1               ?                0          0   \n",
              "2                              3              NO                2          3   \n",
              "3                              1               ?                1          2   \n",
              "4                              1              NO                0          1   \n",
              "..                           ...             ...              ...        ...   \n",
              "995                            1             YES                0          1   \n",
              "996                            1             YES                2          3   \n",
              "997                            3               ?                2          3   \n",
              "998                            1               ?                0          1   \n",
              "999                            1               ?                0          3   \n",
              "\n",
              "    police_report_available  total_claim_amount  injury_claim  property_claim  \\\n",
              "0                       YES               71610          6510           13020   \n",
              "1                         ?                5070           780             780   \n",
              "2                        NO               34650          7700            3850   \n",
              "3                        NO               63400          6340            6340   \n",
              "4                        NO                6500          1300             650   \n",
              "..                      ...                 ...           ...             ...   \n",
              "995                       ?               87200         17440            8720   \n",
              "996                       ?              108480         18080           18080   \n",
              "997                     YES               67500          7500            7500   \n",
              "998                     YES               46980          5220            5220   \n",
              "999                       ?                5060           460             920   \n",
              "\n",
              "     vehicle_claim   auto_make auto_model  auto_year fraud_reported  \n",
              "0            52080        Saab        92x       2004              Y  \n",
              "1             3510    Mercedes       E400       2007              Y  \n",
              "2            23100       Dodge        RAM       2007              N  \n",
              "3            50720   Chevrolet      Tahoe       2014              Y  \n",
              "4             4550      Accura        RSX       2009              N  \n",
              "..             ...         ...        ...        ...            ...  \n",
              "995          61040       Honda     Accord       2006              N  \n",
              "996          72320  Volkswagen     Passat       2015              N  \n",
              "997          52500      Suburu    Impreza       1996              N  \n",
              "998          36540        Audi         A5       1998              N  \n",
              "999           3680    Mercedes       E400       2007              N  \n",
              "\n",
              "[1000 rows x 39 columns]"
            ]
          },
          "execution_count": 2,
          "metadata": {},
          "output_type": "execute_result"
        }
      ],
      "source": [
        "df=pd.read_csv(\"../input/insurance-claim-report/insurance_claims_report.csv\")\n",
        "df_copy = df.copy()\n",
        "pd.set_option('display.max_columns', 100)\n",
        "df_copy"
      ]
    },
    {
      "cell_type": "code",
      "execution_count": null,
      "id": "temporal-actress",
      "metadata": {
        "execution": {
          "iopub.execute_input": "2021-05-05T15:56:00.206305Z",
          "iopub.status.busy": "2021-05-05T15:56:00.205453Z",
          "iopub.status.idle": "2021-05-05T15:56:00.210038Z",
          "shell.execute_reply": "2021-05-05T15:56:00.209392Z"
        },
        "papermill": {
          "duration": 0.053967,
          "end_time": "2021-05-05T15:56:00.210177",
          "exception": false,
          "start_time": "2021-05-05T15:56:00.156210",
          "status": "completed"
        },
        "tags": [],
        "id": "temporal-actress",
        "outputId": "f7fd47fd-d6b0-42e1-946c-3ec0382c7c99"
      },
      "outputs": [
        {
          "data": {
            "text/plain": [
              "(1000, 39)"
            ]
          },
          "execution_count": 3,
          "metadata": {},
          "output_type": "execute_result"
        }
      ],
      "source": [
        "df_copy.shape"
      ]
    },
    {
      "cell_type": "code",
      "execution_count": null,
      "id": "inside-industry",
      "metadata": {
        "execution": {
          "iopub.execute_input": "2021-05-05T15:56:00.305428Z",
          "iopub.status.busy": "2021-05-05T15:56:00.304387Z",
          "iopub.status.idle": "2021-05-05T15:56:00.326037Z",
          "shell.execute_reply": "2021-05-05T15:56:00.326804Z"
        },
        "papermill": {
          "duration": 0.074004,
          "end_time": "2021-05-05T15:56:00.327062",
          "exception": false,
          "start_time": "2021-05-05T15:56:00.253058",
          "status": "completed"
        },
        "tags": [],
        "id": "inside-industry",
        "outputId": "c1050e58-de53-48c2-bf53-80ad17ce6bfb"
      },
      "outputs": [
        {
          "name": "stdout",
          "output_type": "stream",
          "text": [
            "<class 'pandas.core.frame.DataFrame'>\n",
            "RangeIndex: 1000 entries, 0 to 999\n",
            "Data columns (total 39 columns):\n",
            " #   Column                       Non-Null Count  Dtype  \n",
            "---  ------                       --------------  -----  \n",
            " 0   months_as_customer           1000 non-null   int64  \n",
            " 1   age                          1000 non-null   int64  \n",
            " 2   policy_number                1000 non-null   int64  \n",
            " 3   policy_bind_date             1000 non-null   object \n",
            " 4   policy_state                 1000 non-null   object \n",
            " 5   policy_csl                   1000 non-null   object \n",
            " 6   policy_deductable            1000 non-null   int64  \n",
            " 7   policy_annual_premium        1000 non-null   float64\n",
            " 8   umbrella_limit               1000 non-null   int64  \n",
            " 9   insured_zip                  1000 non-null   int64  \n",
            " 10  insured_sex                  1000 non-null   object \n",
            " 11  insured_education_level      1000 non-null   object \n",
            " 12  insured_occupation           1000 non-null   object \n",
            " 13  insured_hobbies              1000 non-null   object \n",
            " 14  insured_relationship         1000 non-null   object \n",
            " 15  capital-gains                1000 non-null   int64  \n",
            " 16  capital-loss                 1000 non-null   int64  \n",
            " 17  incident_date                1000 non-null   object \n",
            " 18  incident_type                1000 non-null   object \n",
            " 19  collision_type               1000 non-null   object \n",
            " 20  incident_severity            1000 non-null   object \n",
            " 21  authorities_contacted        1000 non-null   object \n",
            " 22  incident_state               1000 non-null   object \n",
            " 23  incident_city                1000 non-null   object \n",
            " 24  incident_location            1000 non-null   object \n",
            " 25  incident_hour_of_the_day     1000 non-null   int64  \n",
            " 26  number_of_vehicles_involved  1000 non-null   int64  \n",
            " 27  property_damage              1000 non-null   object \n",
            " 28  bodily_injuries              1000 non-null   int64  \n",
            " 29  witnesses                    1000 non-null   int64  \n",
            " 30  police_report_available      1000 non-null   object \n",
            " 31  total_claim_amount           1000 non-null   int64  \n",
            " 32  injury_claim                 1000 non-null   int64  \n",
            " 33  property_claim               1000 non-null   int64  \n",
            " 34  vehicle_claim                1000 non-null   int64  \n",
            " 35  auto_make                    1000 non-null   object \n",
            " 36  auto_model                   1000 non-null   object \n",
            " 37  auto_year                    1000 non-null   int64  \n",
            " 38  fraud_reported               1000 non-null   object \n",
            "dtypes: float64(1), int64(17), object(21)\n",
            "memory usage: 304.8+ KB\n"
          ]
        }
      ],
      "source": [
        "df_copy.info()"
      ]
    },
    {
      "cell_type": "code",
      "execution_count": null,
      "id": "threaded-affair",
      "metadata": {
        "execution": {
          "iopub.execute_input": "2021-05-05T15:56:00.419558Z",
          "iopub.status.busy": "2021-05-05T15:56:00.418937Z",
          "iopub.status.idle": "2021-05-05T15:56:00.491440Z",
          "shell.execute_reply": "2021-05-05T15:56:00.490770Z"
        },
        "papermill": {
          "duration": 0.120584,
          "end_time": "2021-05-05T15:56:00.491584",
          "exception": false,
          "start_time": "2021-05-05T15:56:00.371000",
          "status": "completed"
        },
        "tags": [],
        "id": "threaded-affair",
        "outputId": "7d4c368d-37b1-442e-b903-91a90f6ac15e"
      },
      "outputs": [
        {
          "data": {
            "text/html": [
              "<div>\n",
              "<style scoped>\n",
              "    .dataframe tbody tr th:only-of-type {\n",
              "        vertical-align: middle;\n",
              "    }\n",
              "\n",
              "    .dataframe tbody tr th {\n",
              "        vertical-align: top;\n",
              "    }\n",
              "\n",
              "    .dataframe thead th {\n",
              "        text-align: right;\n",
              "    }\n",
              "</style>\n",
              "<table border=\"1\" class=\"dataframe\">\n",
              "  <thead>\n",
              "    <tr style=\"text-align: right;\">\n",
              "      <th></th>\n",
              "      <th>count</th>\n",
              "      <th>mean</th>\n",
              "      <th>std</th>\n",
              "      <th>min</th>\n",
              "      <th>25%</th>\n",
              "      <th>50%</th>\n",
              "      <th>75%</th>\n",
              "      <th>max</th>\n",
              "    </tr>\n",
              "  </thead>\n",
              "  <tbody>\n",
              "    <tr>\n",
              "      <th>months_as_customer</th>\n",
              "      <td>1000.0</td>\n",
              "      <td>2.039540e+02</td>\n",
              "      <td>1.151132e+02</td>\n",
              "      <td>0.00</td>\n",
              "      <td>115.7500</td>\n",
              "      <td>199.5</td>\n",
              "      <td>276.250</td>\n",
              "      <td>479.00</td>\n",
              "    </tr>\n",
              "    <tr>\n",
              "      <th>age</th>\n",
              "      <td>1000.0</td>\n",
              "      <td>3.893700e+01</td>\n",
              "      <td>9.158871e+00</td>\n",
              "      <td>18.00</td>\n",
              "      <td>32.0000</td>\n",
              "      <td>38.0</td>\n",
              "      <td>44.000</td>\n",
              "      <td>64.00</td>\n",
              "    </tr>\n",
              "    <tr>\n",
              "      <th>policy_number</th>\n",
              "      <td>1000.0</td>\n",
              "      <td>5.462386e+05</td>\n",
              "      <td>2.570630e+05</td>\n",
              "      <td>100804.00</td>\n",
              "      <td>335980.2500</td>\n",
              "      <td>533135.0</td>\n",
              "      <td>759099.750</td>\n",
              "      <td>999435.00</td>\n",
              "    </tr>\n",
              "    <tr>\n",
              "      <th>policy_deductable</th>\n",
              "      <td>1000.0</td>\n",
              "      <td>1.136000e+03</td>\n",
              "      <td>6.118647e+02</td>\n",
              "      <td>500.00</td>\n",
              "      <td>500.0000</td>\n",
              "      <td>1000.0</td>\n",
              "      <td>2000.000</td>\n",
              "      <td>2000.00</td>\n",
              "    </tr>\n",
              "    <tr>\n",
              "      <th>policy_annual_premium</th>\n",
              "      <td>1000.0</td>\n",
              "      <td>1.256406e+03</td>\n",
              "      <td>2.441674e+02</td>\n",
              "      <td>433.33</td>\n",
              "      <td>1089.6075</td>\n",
              "      <td>1257.2</td>\n",
              "      <td>1415.695</td>\n",
              "      <td>2047.59</td>\n",
              "    </tr>\n",
              "    <tr>\n",
              "      <th>umbrella_limit</th>\n",
              "      <td>1000.0</td>\n",
              "      <td>1.101000e+06</td>\n",
              "      <td>2.297407e+06</td>\n",
              "      <td>-1000000.00</td>\n",
              "      <td>0.0000</td>\n",
              "      <td>0.0</td>\n",
              "      <td>0.000</td>\n",
              "      <td>10000000.00</td>\n",
              "    </tr>\n",
              "    <tr>\n",
              "      <th>insured_zip</th>\n",
              "      <td>1000.0</td>\n",
              "      <td>5.012145e+05</td>\n",
              "      <td>7.170161e+04</td>\n",
              "      <td>430104.00</td>\n",
              "      <td>448404.5000</td>\n",
              "      <td>466445.5</td>\n",
              "      <td>603251.000</td>\n",
              "      <td>620962.00</td>\n",
              "    </tr>\n",
              "    <tr>\n",
              "      <th>capital-gains</th>\n",
              "      <td>1000.0</td>\n",
              "      <td>2.512610e+04</td>\n",
              "      <td>2.787219e+04</td>\n",
              "      <td>0.00</td>\n",
              "      <td>0.0000</td>\n",
              "      <td>0.0</td>\n",
              "      <td>51025.000</td>\n",
              "      <td>100500.00</td>\n",
              "    </tr>\n",
              "    <tr>\n",
              "      <th>capital-loss</th>\n",
              "      <td>1000.0</td>\n",
              "      <td>-2.679370e+04</td>\n",
              "      <td>2.810410e+04</td>\n",
              "      <td>-111100.00</td>\n",
              "      <td>-51500.0000</td>\n",
              "      <td>-23250.0</td>\n",
              "      <td>0.000</td>\n",
              "      <td>0.00</td>\n",
              "    </tr>\n",
              "    <tr>\n",
              "      <th>incident_hour_of_the_day</th>\n",
              "      <td>1000.0</td>\n",
              "      <td>1.164400e+01</td>\n",
              "      <td>6.951373e+00</td>\n",
              "      <td>0.00</td>\n",
              "      <td>6.0000</td>\n",
              "      <td>12.0</td>\n",
              "      <td>17.000</td>\n",
              "      <td>23.00</td>\n",
              "    </tr>\n",
              "    <tr>\n",
              "      <th>number_of_vehicles_involved</th>\n",
              "      <td>1000.0</td>\n",
              "      <td>1.839000e+00</td>\n",
              "      <td>1.018880e+00</td>\n",
              "      <td>1.00</td>\n",
              "      <td>1.0000</td>\n",
              "      <td>1.0</td>\n",
              "      <td>3.000</td>\n",
              "      <td>4.00</td>\n",
              "    </tr>\n",
              "    <tr>\n",
              "      <th>bodily_injuries</th>\n",
              "      <td>1000.0</td>\n",
              "      <td>9.920000e-01</td>\n",
              "      <td>8.201272e-01</td>\n",
              "      <td>0.00</td>\n",
              "      <td>0.0000</td>\n",
              "      <td>1.0</td>\n",
              "      <td>2.000</td>\n",
              "      <td>2.00</td>\n",
              "    </tr>\n",
              "    <tr>\n",
              "      <th>witnesses</th>\n",
              "      <td>1000.0</td>\n",
              "      <td>1.487000e+00</td>\n",
              "      <td>1.111335e+00</td>\n",
              "      <td>0.00</td>\n",
              "      <td>1.0000</td>\n",
              "      <td>1.0</td>\n",
              "      <td>2.000</td>\n",
              "      <td>3.00</td>\n",
              "    </tr>\n",
              "    <tr>\n",
              "      <th>total_claim_amount</th>\n",
              "      <td>1000.0</td>\n",
              "      <td>5.276194e+04</td>\n",
              "      <td>2.640153e+04</td>\n",
              "      <td>100.00</td>\n",
              "      <td>41812.5000</td>\n",
              "      <td>58055.0</td>\n",
              "      <td>70592.500</td>\n",
              "      <td>114920.00</td>\n",
              "    </tr>\n",
              "    <tr>\n",
              "      <th>injury_claim</th>\n",
              "      <td>1000.0</td>\n",
              "      <td>7.433420e+03</td>\n",
              "      <td>4.880952e+03</td>\n",
              "      <td>0.00</td>\n",
              "      <td>4295.0000</td>\n",
              "      <td>6775.0</td>\n",
              "      <td>11305.000</td>\n",
              "      <td>21450.00</td>\n",
              "    </tr>\n",
              "    <tr>\n",
              "      <th>property_claim</th>\n",
              "      <td>1000.0</td>\n",
              "      <td>7.399570e+03</td>\n",
              "      <td>4.824726e+03</td>\n",
              "      <td>0.00</td>\n",
              "      <td>4445.0000</td>\n",
              "      <td>6750.0</td>\n",
              "      <td>10885.000</td>\n",
              "      <td>23670.00</td>\n",
              "    </tr>\n",
              "    <tr>\n",
              "      <th>vehicle_claim</th>\n",
              "      <td>1000.0</td>\n",
              "      <td>3.792895e+04</td>\n",
              "      <td>1.888625e+04</td>\n",
              "      <td>70.00</td>\n",
              "      <td>30292.5000</td>\n",
              "      <td>42100.0</td>\n",
              "      <td>50822.500</td>\n",
              "      <td>79560.00</td>\n",
              "    </tr>\n",
              "    <tr>\n",
              "      <th>auto_year</th>\n",
              "      <td>1000.0</td>\n",
              "      <td>2.005103e+03</td>\n",
              "      <td>6.015861e+00</td>\n",
              "      <td>1995.00</td>\n",
              "      <td>2000.0000</td>\n",
              "      <td>2005.0</td>\n",
              "      <td>2010.000</td>\n",
              "      <td>2015.00</td>\n",
              "    </tr>\n",
              "  </tbody>\n",
              "</table>\n",
              "</div>"
            ],
            "text/plain": [
              "                              count          mean           std         min  \\\n",
              "months_as_customer           1000.0  2.039540e+02  1.151132e+02        0.00   \n",
              "age                          1000.0  3.893700e+01  9.158871e+00       18.00   \n",
              "policy_number                1000.0  5.462386e+05  2.570630e+05   100804.00   \n",
              "policy_deductable            1000.0  1.136000e+03  6.118647e+02      500.00   \n",
              "policy_annual_premium        1000.0  1.256406e+03  2.441674e+02      433.33   \n",
              "umbrella_limit               1000.0  1.101000e+06  2.297407e+06 -1000000.00   \n",
              "insured_zip                  1000.0  5.012145e+05  7.170161e+04   430104.00   \n",
              "capital-gains                1000.0  2.512610e+04  2.787219e+04        0.00   \n",
              "capital-loss                 1000.0 -2.679370e+04  2.810410e+04  -111100.00   \n",
              "incident_hour_of_the_day     1000.0  1.164400e+01  6.951373e+00        0.00   \n",
              "number_of_vehicles_involved  1000.0  1.839000e+00  1.018880e+00        1.00   \n",
              "bodily_injuries              1000.0  9.920000e-01  8.201272e-01        0.00   \n",
              "witnesses                    1000.0  1.487000e+00  1.111335e+00        0.00   \n",
              "total_claim_amount           1000.0  5.276194e+04  2.640153e+04      100.00   \n",
              "injury_claim                 1000.0  7.433420e+03  4.880952e+03        0.00   \n",
              "property_claim               1000.0  7.399570e+03  4.824726e+03        0.00   \n",
              "vehicle_claim                1000.0  3.792895e+04  1.888625e+04       70.00   \n",
              "auto_year                    1000.0  2.005103e+03  6.015861e+00     1995.00   \n",
              "\n",
              "                                     25%       50%         75%          max  \n",
              "months_as_customer              115.7500     199.5     276.250       479.00  \n",
              "age                              32.0000      38.0      44.000        64.00  \n",
              "policy_number                335980.2500  533135.0  759099.750    999435.00  \n",
              "policy_deductable               500.0000    1000.0    2000.000      2000.00  \n",
              "policy_annual_premium          1089.6075    1257.2    1415.695      2047.59  \n",
              "umbrella_limit                    0.0000       0.0       0.000  10000000.00  \n",
              "insured_zip                  448404.5000  466445.5  603251.000    620962.00  \n",
              "capital-gains                     0.0000       0.0   51025.000    100500.00  \n",
              "capital-loss                 -51500.0000  -23250.0       0.000         0.00  \n",
              "incident_hour_of_the_day          6.0000      12.0      17.000        23.00  \n",
              "number_of_vehicles_involved       1.0000       1.0       3.000         4.00  \n",
              "bodily_injuries                   0.0000       1.0       2.000         2.00  \n",
              "witnesses                         1.0000       1.0       2.000         3.00  \n",
              "total_claim_amount            41812.5000   58055.0   70592.500    114920.00  \n",
              "injury_claim                   4295.0000    6775.0   11305.000     21450.00  \n",
              "property_claim                 4445.0000    6750.0   10885.000     23670.00  \n",
              "vehicle_claim                 30292.5000   42100.0   50822.500     79560.00  \n",
              "auto_year                      2000.0000    2005.0    2010.000      2015.00  "
            ]
          },
          "execution_count": 5,
          "metadata": {},
          "output_type": "execute_result"
        }
      ],
      "source": [
        "df_copy.describe().transpose()"
      ]
    },
    {
      "cell_type": "code",
      "execution_count": null,
      "id": "atlantic-frost",
      "metadata": {
        "execution": {
          "iopub.execute_input": "2021-05-05T15:56:00.590201Z",
          "iopub.status.busy": "2021-05-05T15:56:00.589509Z",
          "iopub.status.idle": "2021-05-05T15:56:00.664184Z",
          "shell.execute_reply": "2021-05-05T15:56:00.663521Z"
        },
        "papermill": {
          "duration": 0.128165,
          "end_time": "2021-05-05T15:56:00.664335",
          "exception": false,
          "start_time": "2021-05-05T15:56:00.536170",
          "status": "completed"
        },
        "tags": [],
        "id": "atlantic-frost",
        "outputId": "71a2ebbd-c4d2-4837-af0c-cef24839fa2f"
      },
      "outputs": [
        {
          "data": {
            "text/html": [
              "<div>\n",
              "<style scoped>\n",
              "    .dataframe tbody tr th:only-of-type {\n",
              "        vertical-align: middle;\n",
              "    }\n",
              "\n",
              "    .dataframe tbody tr th {\n",
              "        vertical-align: top;\n",
              "    }\n",
              "\n",
              "    .dataframe thead th {\n",
              "        text-align: right;\n",
              "    }\n",
              "</style>\n",
              "<table border=\"1\" class=\"dataframe\">\n",
              "  <thead>\n",
              "    <tr style=\"text-align: right;\">\n",
              "      <th></th>\n",
              "      <th>count</th>\n",
              "      <th>unique</th>\n",
              "      <th>top</th>\n",
              "      <th>freq</th>\n",
              "    </tr>\n",
              "  </thead>\n",
              "  <tbody>\n",
              "    <tr>\n",
              "      <th>policy_bind_date</th>\n",
              "      <td>1000</td>\n",
              "      <td>951</td>\n",
              "      <td>01/01/06</td>\n",
              "      <td>3</td>\n",
              "    </tr>\n",
              "    <tr>\n",
              "      <th>policy_state</th>\n",
              "      <td>1000</td>\n",
              "      <td>3</td>\n",
              "      <td>OH</td>\n",
              "      <td>352</td>\n",
              "    </tr>\n",
              "    <tr>\n",
              "      <th>policy_csl</th>\n",
              "      <td>1000</td>\n",
              "      <td>3</td>\n",
              "      <td>250/500</td>\n",
              "      <td>351</td>\n",
              "    </tr>\n",
              "    <tr>\n",
              "      <th>insured_sex</th>\n",
              "      <td>1000</td>\n",
              "      <td>2</td>\n",
              "      <td>FEMALE</td>\n",
              "      <td>537</td>\n",
              "    </tr>\n",
              "    <tr>\n",
              "      <th>insured_education_level</th>\n",
              "      <td>1000</td>\n",
              "      <td>7</td>\n",
              "      <td>JD</td>\n",
              "      <td>161</td>\n",
              "    </tr>\n",
              "    <tr>\n",
              "      <th>insured_occupation</th>\n",
              "      <td>1000</td>\n",
              "      <td>14</td>\n",
              "      <td>machine-op-inspct</td>\n",
              "      <td>93</td>\n",
              "    </tr>\n",
              "    <tr>\n",
              "      <th>insured_hobbies</th>\n",
              "      <td>1000</td>\n",
              "      <td>20</td>\n",
              "      <td>reading</td>\n",
              "      <td>64</td>\n",
              "    </tr>\n",
              "    <tr>\n",
              "      <th>insured_relationship</th>\n",
              "      <td>1000</td>\n",
              "      <td>6</td>\n",
              "      <td>own-child</td>\n",
              "      <td>183</td>\n",
              "    </tr>\n",
              "    <tr>\n",
              "      <th>incident_date</th>\n",
              "      <td>1000</td>\n",
              "      <td>60</td>\n",
              "      <td>02/02/15</td>\n",
              "      <td>28</td>\n",
              "    </tr>\n",
              "    <tr>\n",
              "      <th>incident_type</th>\n",
              "      <td>1000</td>\n",
              "      <td>4</td>\n",
              "      <td>Multi-vehicle Collision</td>\n",
              "      <td>419</td>\n",
              "    </tr>\n",
              "    <tr>\n",
              "      <th>collision_type</th>\n",
              "      <td>1000</td>\n",
              "      <td>4</td>\n",
              "      <td>Rear Collision</td>\n",
              "      <td>292</td>\n",
              "    </tr>\n",
              "    <tr>\n",
              "      <th>incident_severity</th>\n",
              "      <td>1000</td>\n",
              "      <td>4</td>\n",
              "      <td>Minor Damage</td>\n",
              "      <td>354</td>\n",
              "    </tr>\n",
              "    <tr>\n",
              "      <th>authorities_contacted</th>\n",
              "      <td>1000</td>\n",
              "      <td>5</td>\n",
              "      <td>Police</td>\n",
              "      <td>292</td>\n",
              "    </tr>\n",
              "    <tr>\n",
              "      <th>incident_state</th>\n",
              "      <td>1000</td>\n",
              "      <td>7</td>\n",
              "      <td>NY</td>\n",
              "      <td>262</td>\n",
              "    </tr>\n",
              "    <tr>\n",
              "      <th>incident_city</th>\n",
              "      <td>1000</td>\n",
              "      <td>7</td>\n",
              "      <td>Springfield</td>\n",
              "      <td>157</td>\n",
              "    </tr>\n",
              "    <tr>\n",
              "      <th>incident_location</th>\n",
              "      <td>1000</td>\n",
              "      <td>1000</td>\n",
              "      <td>3797 Solo Lane</td>\n",
              "      <td>1</td>\n",
              "    </tr>\n",
              "    <tr>\n",
              "      <th>property_damage</th>\n",
              "      <td>1000</td>\n",
              "      <td>3</td>\n",
              "      <td>?</td>\n",
              "      <td>360</td>\n",
              "    </tr>\n",
              "    <tr>\n",
              "      <th>police_report_available</th>\n",
              "      <td>1000</td>\n",
              "      <td>3</td>\n",
              "      <td>?</td>\n",
              "      <td>343</td>\n",
              "    </tr>\n",
              "    <tr>\n",
              "      <th>auto_make</th>\n",
              "      <td>1000</td>\n",
              "      <td>14</td>\n",
              "      <td>Dodge</td>\n",
              "      <td>80</td>\n",
              "    </tr>\n",
              "    <tr>\n",
              "      <th>auto_model</th>\n",
              "      <td>1000</td>\n",
              "      <td>39</td>\n",
              "      <td>RAM</td>\n",
              "      <td>43</td>\n",
              "    </tr>\n",
              "    <tr>\n",
              "      <th>fraud_reported</th>\n",
              "      <td>1000</td>\n",
              "      <td>2</td>\n",
              "      <td>N</td>\n",
              "      <td>753</td>\n",
              "    </tr>\n",
              "  </tbody>\n",
              "</table>\n",
              "</div>"
            ],
            "text/plain": [
              "                        count unique                      top freq\n",
              "policy_bind_date         1000    951                 01/01/06    3\n",
              "policy_state             1000      3                       OH  352\n",
              "policy_csl               1000      3                  250/500  351\n",
              "insured_sex              1000      2                   FEMALE  537\n",
              "insured_education_level  1000      7                       JD  161\n",
              "insured_occupation       1000     14        machine-op-inspct   93\n",
              "insured_hobbies          1000     20                  reading   64\n",
              "insured_relationship     1000      6                own-child  183\n",
              "incident_date            1000     60                 02/02/15   28\n",
              "incident_type            1000      4  Multi-vehicle Collision  419\n",
              "collision_type           1000      4           Rear Collision  292\n",
              "incident_severity        1000      4             Minor Damage  354\n",
              "authorities_contacted    1000      5                   Police  292\n",
              "incident_state           1000      7                       NY  262\n",
              "incident_city            1000      7              Springfield  157\n",
              "incident_location        1000   1000           3797 Solo Lane    1\n",
              "property_damage          1000      3                        ?  360\n",
              "police_report_available  1000      3                        ?  343\n",
              "auto_make                1000     14                    Dodge   80\n",
              "auto_model               1000     39                      RAM   43\n",
              "fraud_reported           1000      2                        N  753"
            ]
          },
          "execution_count": 6,
          "metadata": {},
          "output_type": "execute_result"
        }
      ],
      "source": [
        "df_copy.select_dtypes(include='object').describe().transpose()"
      ]
    },
    {
      "cell_type": "markdown",
      "id": "pleasant-disney",
      "metadata": {
        "papermill": {
          "duration": 0.046094,
          "end_time": "2021-05-05T15:56:00.757100",
          "exception": false,
          "start_time": "2021-05-05T15:56:00.711006",
          "status": "completed"
        },
        "tags": [],
        "id": "pleasant-disney"
      },
      "source": [
        "# **Data Pre Processing**\n",
        "-  Data cleaning\n",
        "-  Data Transformation\n",
        "-  Data Integration"
      ]
    },
    {
      "cell_type": "markdown",
      "id": "vertical-program",
      "metadata": {
        "papermill": {
          "duration": 0.045028,
          "end_time": "2021-05-05T15:56:00.848374",
          "exception": false,
          "start_time": "2021-05-05T15:56:00.803346",
          "status": "completed"
        },
        "tags": [],
        "id": "vertical-program"
      },
      "source": [
        "## 1. Data Cleaning"
      ]
    },
    {
      "cell_type": "code",
      "execution_count": null,
      "id": "arctic-cooperation",
      "metadata": {
        "execution": {
          "iopub.execute_input": "2021-05-05T15:56:00.946902Z",
          "iopub.status.busy": "2021-05-05T15:56:00.946216Z",
          "iopub.status.idle": "2021-05-05T15:56:00.956051Z",
          "shell.execute_reply": "2021-05-05T15:56:00.956527Z"
        },
        "papermill": {
          "duration": 0.063334,
          "end_time": "2021-05-05T15:56:00.956727",
          "exception": false,
          "start_time": "2021-05-05T15:56:00.893393",
          "status": "completed"
        },
        "tags": [],
        "id": "arctic-cooperation",
        "outputId": "f7565c4c-6f68-4ad7-e65a-645c21f47df0"
      },
      "outputs": [
        {
          "data": {
            "text/plain": [
              "(1000, 39)"
            ]
          },
          "execution_count": 7,
          "metadata": {},
          "output_type": "execute_result"
        }
      ],
      "source": [
        "#replacing '?' with NAN\n",
        "\n",
        "df_copy = df_copy[df_copy != '?']\n",
        "df_copy.shape"
      ]
    },
    {
      "cell_type": "code",
      "execution_count": null,
      "id": "similar-terrain",
      "metadata": {
        "execution": {
          "iopub.execute_input": "2021-05-05T15:56:01.051678Z",
          "iopub.status.busy": "2021-05-05T15:56:01.050726Z",
          "iopub.status.idle": "2021-05-05T15:56:01.063226Z",
          "shell.execute_reply": "2021-05-05T15:56:01.062699Z"
        },
        "papermill": {
          "duration": 0.061362,
          "end_time": "2021-05-05T15:56:01.063369",
          "exception": false,
          "start_time": "2021-05-05T15:56:01.002007",
          "status": "completed"
        },
        "tags": [],
        "id": "similar-terrain",
        "outputId": "946ea83d-0257-439a-a20a-38f538738c09"
      },
      "outputs": [
        {
          "data": {
            "text/plain": [
              "months_as_customer               0\n",
              "age                              0\n",
              "policy_number                    0\n",
              "policy_bind_date                 0\n",
              "policy_state                     0\n",
              "policy_csl                       0\n",
              "policy_deductable                0\n",
              "policy_annual_premium            0\n",
              "umbrella_limit                   0\n",
              "insured_zip                      0\n",
              "insured_sex                      0\n",
              "insured_education_level          0\n",
              "insured_occupation               0\n",
              "insured_hobbies                  0\n",
              "insured_relationship             0\n",
              "capital-gains                    0\n",
              "capital-loss                     0\n",
              "incident_date                    0\n",
              "incident_type                    0\n",
              "collision_type                 178\n",
              "incident_severity                0\n",
              "authorities_contacted            0\n",
              "incident_state                   0\n",
              "incident_city                    0\n",
              "incident_location                0\n",
              "incident_hour_of_the_day         0\n",
              "number_of_vehicles_involved      0\n",
              "property_damage                360\n",
              "bodily_injuries                  0\n",
              "witnesses                        0\n",
              "police_report_available        343\n",
              "total_claim_amount               0\n",
              "injury_claim                     0\n",
              "property_claim                   0\n",
              "vehicle_claim                    0\n",
              "auto_make                        0\n",
              "auto_model                       0\n",
              "auto_year                        0\n",
              "fraud_reported                   0\n",
              "dtype: int64"
            ]
          },
          "execution_count": 8,
          "metadata": {},
          "output_type": "execute_result"
        }
      ],
      "source": [
        "df_copy.isnull().sum()"
      ]
    },
    {
      "cell_type": "code",
      "execution_count": null,
      "id": "bigger-competition",
      "metadata": {
        "execution": {
          "iopub.execute_input": "2021-05-05T15:56:01.166129Z",
          "iopub.status.busy": "2021-05-05T15:56:01.165349Z",
          "iopub.status.idle": "2021-05-05T15:56:01.167276Z",
          "shell.execute_reply": "2021-05-05T15:56:01.167795Z"
        },
        "papermill": {
          "duration": 0.058414,
          "end_time": "2021-05-05T15:56:01.167962",
          "exception": false,
          "start_time": "2021-05-05T15:56:01.109548",
          "status": "completed"
        },
        "tags": [],
        "id": "bigger-competition"
      },
      "outputs": [],
      "source": [
        "#replacing null values with mode of the respective columns\n",
        "\n",
        "df_copy['collision_type'].fillna(df_copy['collision_type'].mode()[0],inplace = True)\n",
        "df_copy['property_damage'].fillna(df_copy['property_damage'].mode()[0],inplace = True)\n",
        "df_copy['police_report_available'].fillna(df_copy['police_report_available'].mode()[0],inplace = True)"
      ]
    },
    {
      "cell_type": "code",
      "execution_count": null,
      "id": "optional-compression",
      "metadata": {
        "execution": {
          "iopub.execute_input": "2021-05-05T15:56:01.264054Z",
          "iopub.status.busy": "2021-05-05T15:56:01.263394Z",
          "iopub.status.idle": "2021-05-05T15:56:01.273376Z",
          "shell.execute_reply": "2021-05-05T15:56:01.273872Z"
        },
        "papermill": {
          "duration": 0.05973,
          "end_time": "2021-05-05T15:56:01.274055",
          "exception": false,
          "start_time": "2021-05-05T15:56:01.214325",
          "status": "completed"
        },
        "tags": [],
        "id": "optional-compression",
        "outputId": "172c3a1a-b294-4136-e07a-c14e90e14e15"
      },
      "outputs": [
        {
          "data": {
            "text/plain": [
              "months_as_customer             0\n",
              "age                            0\n",
              "policy_number                  0\n",
              "policy_bind_date               0\n",
              "policy_state                   0\n",
              "policy_csl                     0\n",
              "policy_deductable              0\n",
              "policy_annual_premium          0\n",
              "umbrella_limit                 0\n",
              "insured_zip                    0\n",
              "insured_sex                    0\n",
              "insured_education_level        0\n",
              "insured_occupation             0\n",
              "insured_hobbies                0\n",
              "insured_relationship           0\n",
              "capital-gains                  0\n",
              "capital-loss                   0\n",
              "incident_date                  0\n",
              "incident_type                  0\n",
              "collision_type                 0\n",
              "incident_severity              0\n",
              "authorities_contacted          0\n",
              "incident_state                 0\n",
              "incident_city                  0\n",
              "incident_location              0\n",
              "incident_hour_of_the_day       0\n",
              "number_of_vehicles_involved    0\n",
              "property_damage                0\n",
              "bodily_injuries                0\n",
              "witnesses                      0\n",
              "police_report_available        0\n",
              "total_claim_amount             0\n",
              "injury_claim                   0\n",
              "property_claim                 0\n",
              "vehicle_claim                  0\n",
              "auto_make                      0\n",
              "auto_model                     0\n",
              "auto_year                      0\n",
              "fraud_reported                 0\n",
              "dtype: int64"
            ]
          },
          "execution_count": 10,
          "metadata": {},
          "output_type": "execute_result"
        }
      ],
      "source": [
        "df_copy.isnull().sum()"
      ]
    },
    {
      "cell_type": "code",
      "execution_count": null,
      "id": "senior-spanking",
      "metadata": {
        "execution": {
          "iopub.execute_input": "2021-05-05T15:56:01.372426Z",
          "iopub.status.busy": "2021-05-05T15:56:01.371761Z",
          "iopub.status.idle": "2021-05-05T15:56:01.383248Z",
          "shell.execute_reply": "2021-05-05T15:56:01.382442Z"
        },
        "papermill": {
          "duration": 0.06117,
          "end_time": "2021-05-05T15:56:01.383392",
          "exception": false,
          "start_time": "2021-05-05T15:56:01.322222",
          "status": "completed"
        },
        "tags": [],
        "id": "senior-spanking",
        "outputId": "2621c50f-e9a8-400c-96b1-6ab3d44c4682"
      },
      "outputs": [
        {
          "data": {
            "text/plain": [
              "months_as_customer             0\n",
              "age                            0\n",
              "policy_number                  0\n",
              "policy_bind_date               0\n",
              "policy_state                   0\n",
              "policy_csl                     0\n",
              "policy_deductable              0\n",
              "policy_annual_premium          0\n",
              "umbrella_limit                 0\n",
              "insured_zip                    0\n",
              "insured_sex                    0\n",
              "insured_education_level        0\n",
              "insured_occupation             0\n",
              "insured_hobbies                0\n",
              "insured_relationship           0\n",
              "capital-gains                  0\n",
              "capital-loss                   0\n",
              "incident_date                  0\n",
              "incident_type                  0\n",
              "collision_type                 0\n",
              "incident_severity              0\n",
              "authorities_contacted          0\n",
              "incident_state                 0\n",
              "incident_city                  0\n",
              "incident_location              0\n",
              "incident_hour_of_the_day       0\n",
              "number_of_vehicles_involved    0\n",
              "property_damage                0\n",
              "bodily_injuries                0\n",
              "witnesses                      0\n",
              "police_report_available        0\n",
              "total_claim_amount             0\n",
              "injury_claim                   0\n",
              "property_claim                 0\n",
              "vehicle_claim                  0\n",
              "auto_make                      0\n",
              "auto_model                     0\n",
              "auto_year                      0\n",
              "fraud_reported                 0\n",
              "dtype: int64"
            ]
          },
          "execution_count": 11,
          "metadata": {},
          "output_type": "execute_result"
        }
      ],
      "source": [
        "df_copy.isna().sum()"
      ]
    },
    {
      "cell_type": "markdown",
      "id": "grateful-tsunami",
      "metadata": {
        "papermill": {
          "duration": 0.047207,
          "end_time": "2021-05-05T15:56:01.478068",
          "exception": false,
          "start_time": "2021-05-05T15:56:01.430861",
          "status": "completed"
        },
        "tags": [],
        "id": "grateful-tsunami"
      },
      "source": [
        "## 2. Data Transformation"
      ]
    },
    {
      "cell_type": "code",
      "execution_count": null,
      "id": "viral-asbestos",
      "metadata": {
        "execution": {
          "iopub.execute_input": "2021-05-05T15:56:01.612419Z",
          "iopub.status.busy": "2021-05-05T15:56:01.607308Z",
          "iopub.status.idle": "2021-05-05T15:56:01.673662Z",
          "shell.execute_reply": "2021-05-05T15:56:01.672702Z"
        },
        "papermill": {
          "duration": 0.147953,
          "end_time": "2021-05-05T15:56:01.673812",
          "exception": false,
          "start_time": "2021-05-05T15:56:01.525859",
          "status": "completed"
        },
        "tags": [],
        "id": "viral-asbestos"
      },
      "outputs": [],
      "source": [
        "df_copy['policy_bind_date'] = pd.to_datetime(df_copy['policy_bind_date'])\n",
        "df_copy['incident_date'] = pd.to_datetime(df_copy['incident_date'])"
      ]
    },
    {
      "cell_type": "markdown",
      "id": "backed-bloom",
      "metadata": {
        "papermill": {
          "duration": 0.047542,
          "end_time": "2021-05-05T15:56:01.768575",
          "exception": false,
          "start_time": "2021-05-05T15:56:01.721033",
          "status": "completed"
        },
        "tags": [],
        "id": "backed-bloom"
      },
      "source": [
        "# **EDA**\n",
        "- Descriptive Statistics\n",
        "- Outlier Analysis\n",
        "- Data Visualisation"
      ]
    },
    {
      "cell_type": "markdown",
      "id": "sealed-canyon",
      "metadata": {
        "papermill": {
          "duration": 0.046837,
          "end_time": "2021-05-05T15:56:01.863130",
          "exception": false,
          "start_time": "2021-05-05T15:56:01.816293",
          "status": "completed"
        },
        "tags": [],
        "id": "sealed-canyon"
      },
      "source": [
        "## 1. Descriptive Statistics"
      ]
    },
    {
      "cell_type": "code",
      "execution_count": null,
      "id": "european-deployment",
      "metadata": {
        "execution": {
          "iopub.execute_input": "2021-05-05T15:56:01.966297Z",
          "iopub.status.busy": "2021-05-05T15:56:01.965628Z",
          "iopub.status.idle": "2021-05-05T15:56:02.031465Z",
          "shell.execute_reply": "2021-05-05T15:56:02.031997Z"
        },
        "papermill": {
          "duration": 0.121219,
          "end_time": "2021-05-05T15:56:02.032180",
          "exception": false,
          "start_time": "2021-05-05T15:56:01.910961",
          "status": "completed"
        },
        "tags": [],
        "id": "european-deployment",
        "outputId": "802c00ff-330d-473a-b730-d28667d904d4"
      },
      "outputs": [
        {
          "data": {
            "text/html": [
              "<div>\n",
              "<style scoped>\n",
              "    .dataframe tbody tr th:only-of-type {\n",
              "        vertical-align: middle;\n",
              "    }\n",
              "\n",
              "    .dataframe tbody tr th {\n",
              "        vertical-align: top;\n",
              "    }\n",
              "\n",
              "    .dataframe thead th {\n",
              "        text-align: right;\n",
              "    }\n",
              "</style>\n",
              "<table border=\"1\" class=\"dataframe\">\n",
              "  <thead>\n",
              "    <tr style=\"text-align: right;\">\n",
              "      <th></th>\n",
              "      <th>count</th>\n",
              "      <th>mean</th>\n",
              "      <th>std</th>\n",
              "      <th>min</th>\n",
              "      <th>25%</th>\n",
              "      <th>50%</th>\n",
              "      <th>75%</th>\n",
              "      <th>max</th>\n",
              "    </tr>\n",
              "  </thead>\n",
              "  <tbody>\n",
              "    <tr>\n",
              "      <th>months_as_customer</th>\n",
              "      <td>1000.0</td>\n",
              "      <td>2.039540e+02</td>\n",
              "      <td>1.151132e+02</td>\n",
              "      <td>0.00</td>\n",
              "      <td>115.7500</td>\n",
              "      <td>199.5</td>\n",
              "      <td>276.250</td>\n",
              "      <td>479.00</td>\n",
              "    </tr>\n",
              "    <tr>\n",
              "      <th>age</th>\n",
              "      <td>1000.0</td>\n",
              "      <td>3.893700e+01</td>\n",
              "      <td>9.158871e+00</td>\n",
              "      <td>18.00</td>\n",
              "      <td>32.0000</td>\n",
              "      <td>38.0</td>\n",
              "      <td>44.000</td>\n",
              "      <td>64.00</td>\n",
              "    </tr>\n",
              "    <tr>\n",
              "      <th>policy_number</th>\n",
              "      <td>1000.0</td>\n",
              "      <td>5.462386e+05</td>\n",
              "      <td>2.570630e+05</td>\n",
              "      <td>100804.00</td>\n",
              "      <td>335980.2500</td>\n",
              "      <td>533135.0</td>\n",
              "      <td>759099.750</td>\n",
              "      <td>999435.00</td>\n",
              "    </tr>\n",
              "    <tr>\n",
              "      <th>policy_deductable</th>\n",
              "      <td>1000.0</td>\n",
              "      <td>1.136000e+03</td>\n",
              "      <td>6.118647e+02</td>\n",
              "      <td>500.00</td>\n",
              "      <td>500.0000</td>\n",
              "      <td>1000.0</td>\n",
              "      <td>2000.000</td>\n",
              "      <td>2000.00</td>\n",
              "    </tr>\n",
              "    <tr>\n",
              "      <th>policy_annual_premium</th>\n",
              "      <td>1000.0</td>\n",
              "      <td>1.256406e+03</td>\n",
              "      <td>2.441674e+02</td>\n",
              "      <td>433.33</td>\n",
              "      <td>1089.6075</td>\n",
              "      <td>1257.2</td>\n",
              "      <td>1415.695</td>\n",
              "      <td>2047.59</td>\n",
              "    </tr>\n",
              "    <tr>\n",
              "      <th>umbrella_limit</th>\n",
              "      <td>1000.0</td>\n",
              "      <td>1.101000e+06</td>\n",
              "      <td>2.297407e+06</td>\n",
              "      <td>-1000000.00</td>\n",
              "      <td>0.0000</td>\n",
              "      <td>0.0</td>\n",
              "      <td>0.000</td>\n",
              "      <td>10000000.00</td>\n",
              "    </tr>\n",
              "    <tr>\n",
              "      <th>insured_zip</th>\n",
              "      <td>1000.0</td>\n",
              "      <td>5.012145e+05</td>\n",
              "      <td>7.170161e+04</td>\n",
              "      <td>430104.00</td>\n",
              "      <td>448404.5000</td>\n",
              "      <td>466445.5</td>\n",
              "      <td>603251.000</td>\n",
              "      <td>620962.00</td>\n",
              "    </tr>\n",
              "    <tr>\n",
              "      <th>capital-gains</th>\n",
              "      <td>1000.0</td>\n",
              "      <td>2.512610e+04</td>\n",
              "      <td>2.787219e+04</td>\n",
              "      <td>0.00</td>\n",
              "      <td>0.0000</td>\n",
              "      <td>0.0</td>\n",
              "      <td>51025.000</td>\n",
              "      <td>100500.00</td>\n",
              "    </tr>\n",
              "    <tr>\n",
              "      <th>capital-loss</th>\n",
              "      <td>1000.0</td>\n",
              "      <td>-2.679370e+04</td>\n",
              "      <td>2.810410e+04</td>\n",
              "      <td>-111100.00</td>\n",
              "      <td>-51500.0000</td>\n",
              "      <td>-23250.0</td>\n",
              "      <td>0.000</td>\n",
              "      <td>0.00</td>\n",
              "    </tr>\n",
              "    <tr>\n",
              "      <th>incident_hour_of_the_day</th>\n",
              "      <td>1000.0</td>\n",
              "      <td>1.164400e+01</td>\n",
              "      <td>6.951373e+00</td>\n",
              "      <td>0.00</td>\n",
              "      <td>6.0000</td>\n",
              "      <td>12.0</td>\n",
              "      <td>17.000</td>\n",
              "      <td>23.00</td>\n",
              "    </tr>\n",
              "    <tr>\n",
              "      <th>number_of_vehicles_involved</th>\n",
              "      <td>1000.0</td>\n",
              "      <td>1.839000e+00</td>\n",
              "      <td>1.018880e+00</td>\n",
              "      <td>1.00</td>\n",
              "      <td>1.0000</td>\n",
              "      <td>1.0</td>\n",
              "      <td>3.000</td>\n",
              "      <td>4.00</td>\n",
              "    </tr>\n",
              "    <tr>\n",
              "      <th>bodily_injuries</th>\n",
              "      <td>1000.0</td>\n",
              "      <td>9.920000e-01</td>\n",
              "      <td>8.201272e-01</td>\n",
              "      <td>0.00</td>\n",
              "      <td>0.0000</td>\n",
              "      <td>1.0</td>\n",
              "      <td>2.000</td>\n",
              "      <td>2.00</td>\n",
              "    </tr>\n",
              "    <tr>\n",
              "      <th>witnesses</th>\n",
              "      <td>1000.0</td>\n",
              "      <td>1.487000e+00</td>\n",
              "      <td>1.111335e+00</td>\n",
              "      <td>0.00</td>\n",
              "      <td>1.0000</td>\n",
              "      <td>1.0</td>\n",
              "      <td>2.000</td>\n",
              "      <td>3.00</td>\n",
              "    </tr>\n",
              "    <tr>\n",
              "      <th>total_claim_amount</th>\n",
              "      <td>1000.0</td>\n",
              "      <td>5.276194e+04</td>\n",
              "      <td>2.640153e+04</td>\n",
              "      <td>100.00</td>\n",
              "      <td>41812.5000</td>\n",
              "      <td>58055.0</td>\n",
              "      <td>70592.500</td>\n",
              "      <td>114920.00</td>\n",
              "    </tr>\n",
              "    <tr>\n",
              "      <th>injury_claim</th>\n",
              "      <td>1000.0</td>\n",
              "      <td>7.433420e+03</td>\n",
              "      <td>4.880952e+03</td>\n",
              "      <td>0.00</td>\n",
              "      <td>4295.0000</td>\n",
              "      <td>6775.0</td>\n",
              "      <td>11305.000</td>\n",
              "      <td>21450.00</td>\n",
              "    </tr>\n",
              "    <tr>\n",
              "      <th>property_claim</th>\n",
              "      <td>1000.0</td>\n",
              "      <td>7.399570e+03</td>\n",
              "      <td>4.824726e+03</td>\n",
              "      <td>0.00</td>\n",
              "      <td>4445.0000</td>\n",
              "      <td>6750.0</td>\n",
              "      <td>10885.000</td>\n",
              "      <td>23670.00</td>\n",
              "    </tr>\n",
              "    <tr>\n",
              "      <th>vehicle_claim</th>\n",
              "      <td>1000.0</td>\n",
              "      <td>3.792895e+04</td>\n",
              "      <td>1.888625e+04</td>\n",
              "      <td>70.00</td>\n",
              "      <td>30292.5000</td>\n",
              "      <td>42100.0</td>\n",
              "      <td>50822.500</td>\n",
              "      <td>79560.00</td>\n",
              "    </tr>\n",
              "    <tr>\n",
              "      <th>auto_year</th>\n",
              "      <td>1000.0</td>\n",
              "      <td>2.005103e+03</td>\n",
              "      <td>6.015861e+00</td>\n",
              "      <td>1995.00</td>\n",
              "      <td>2000.0000</td>\n",
              "      <td>2005.0</td>\n",
              "      <td>2010.000</td>\n",
              "      <td>2015.00</td>\n",
              "    </tr>\n",
              "  </tbody>\n",
              "</table>\n",
              "</div>"
            ],
            "text/plain": [
              "                              count          mean           std         min  \\\n",
              "months_as_customer           1000.0  2.039540e+02  1.151132e+02        0.00   \n",
              "age                          1000.0  3.893700e+01  9.158871e+00       18.00   \n",
              "policy_number                1000.0  5.462386e+05  2.570630e+05   100804.00   \n",
              "policy_deductable            1000.0  1.136000e+03  6.118647e+02      500.00   \n",
              "policy_annual_premium        1000.0  1.256406e+03  2.441674e+02      433.33   \n",
              "umbrella_limit               1000.0  1.101000e+06  2.297407e+06 -1000000.00   \n",
              "insured_zip                  1000.0  5.012145e+05  7.170161e+04   430104.00   \n",
              "capital-gains                1000.0  2.512610e+04  2.787219e+04        0.00   \n",
              "capital-loss                 1000.0 -2.679370e+04  2.810410e+04  -111100.00   \n",
              "incident_hour_of_the_day     1000.0  1.164400e+01  6.951373e+00        0.00   \n",
              "number_of_vehicles_involved  1000.0  1.839000e+00  1.018880e+00        1.00   \n",
              "bodily_injuries              1000.0  9.920000e-01  8.201272e-01        0.00   \n",
              "witnesses                    1000.0  1.487000e+00  1.111335e+00        0.00   \n",
              "total_claim_amount           1000.0  5.276194e+04  2.640153e+04      100.00   \n",
              "injury_claim                 1000.0  7.433420e+03  4.880952e+03        0.00   \n",
              "property_claim               1000.0  7.399570e+03  4.824726e+03        0.00   \n",
              "vehicle_claim                1000.0  3.792895e+04  1.888625e+04       70.00   \n",
              "auto_year                    1000.0  2.005103e+03  6.015861e+00     1995.00   \n",
              "\n",
              "                                     25%       50%         75%          max  \n",
              "months_as_customer              115.7500     199.5     276.250       479.00  \n",
              "age                              32.0000      38.0      44.000        64.00  \n",
              "policy_number                335980.2500  533135.0  759099.750    999435.00  \n",
              "policy_deductable               500.0000    1000.0    2000.000      2000.00  \n",
              "policy_annual_premium          1089.6075    1257.2    1415.695      2047.59  \n",
              "umbrella_limit                    0.0000       0.0       0.000  10000000.00  \n",
              "insured_zip                  448404.5000  466445.5  603251.000    620962.00  \n",
              "capital-gains                     0.0000       0.0   51025.000    100500.00  \n",
              "capital-loss                 -51500.0000  -23250.0       0.000         0.00  \n",
              "incident_hour_of_the_day          6.0000      12.0      17.000        23.00  \n",
              "number_of_vehicles_involved       1.0000       1.0       3.000         4.00  \n",
              "bodily_injuries                   0.0000       1.0       2.000         2.00  \n",
              "witnesses                         1.0000       1.0       2.000         3.00  \n",
              "total_claim_amount            41812.5000   58055.0   70592.500    114920.00  \n",
              "injury_claim                   4295.0000    6775.0   11305.000     21450.00  \n",
              "property_claim                 4445.0000    6750.0   10885.000     23670.00  \n",
              "vehicle_claim                 30292.5000   42100.0   50822.500     79560.00  \n",
              "auto_year                      2000.0000    2005.0    2010.000      2015.00  "
            ]
          },
          "execution_count": 13,
          "metadata": {},
          "output_type": "execute_result"
        }
      ],
      "source": [
        "df_copy.describe().transpose()"
      ]
    },
    {
      "cell_type": "code",
      "execution_count": null,
      "id": "monetary-universal",
      "metadata": {
        "execution": {
          "iopub.execute_input": "2021-05-05T15:56:02.134702Z",
          "iopub.status.busy": "2021-05-05T15:56:02.133988Z",
          "iopub.status.idle": "2021-05-05T15:56:02.188544Z",
          "shell.execute_reply": "2021-05-05T15:56:02.189122Z"
        },
        "papermill": {
          "duration": 0.107312,
          "end_time": "2021-05-05T15:56:02.189310",
          "exception": false,
          "start_time": "2021-05-05T15:56:02.081998",
          "status": "completed"
        },
        "tags": [],
        "id": "monetary-universal",
        "outputId": "02dff9ad-a5fb-4c83-fc95-514f0ad6fce2"
      },
      "outputs": [
        {
          "data": {
            "text/html": [
              "<div>\n",
              "<style scoped>\n",
              "    .dataframe tbody tr th:only-of-type {\n",
              "        vertical-align: middle;\n",
              "    }\n",
              "\n",
              "    .dataframe tbody tr th {\n",
              "        vertical-align: top;\n",
              "    }\n",
              "\n",
              "    .dataframe thead th {\n",
              "        text-align: right;\n",
              "    }\n",
              "</style>\n",
              "<table border=\"1\" class=\"dataframe\">\n",
              "  <thead>\n",
              "    <tr style=\"text-align: right;\">\n",
              "      <th></th>\n",
              "      <th>count</th>\n",
              "      <th>unique</th>\n",
              "      <th>top</th>\n",
              "      <th>freq</th>\n",
              "    </tr>\n",
              "  </thead>\n",
              "  <tbody>\n",
              "    <tr>\n",
              "      <th>policy_state</th>\n",
              "      <td>1000</td>\n",
              "      <td>3</td>\n",
              "      <td>OH</td>\n",
              "      <td>352</td>\n",
              "    </tr>\n",
              "    <tr>\n",
              "      <th>policy_csl</th>\n",
              "      <td>1000</td>\n",
              "      <td>3</td>\n",
              "      <td>250/500</td>\n",
              "      <td>351</td>\n",
              "    </tr>\n",
              "    <tr>\n",
              "      <th>insured_sex</th>\n",
              "      <td>1000</td>\n",
              "      <td>2</td>\n",
              "      <td>FEMALE</td>\n",
              "      <td>537</td>\n",
              "    </tr>\n",
              "    <tr>\n",
              "      <th>insured_education_level</th>\n",
              "      <td>1000</td>\n",
              "      <td>7</td>\n",
              "      <td>JD</td>\n",
              "      <td>161</td>\n",
              "    </tr>\n",
              "    <tr>\n",
              "      <th>insured_occupation</th>\n",
              "      <td>1000</td>\n",
              "      <td>14</td>\n",
              "      <td>machine-op-inspct</td>\n",
              "      <td>93</td>\n",
              "    </tr>\n",
              "    <tr>\n",
              "      <th>insured_hobbies</th>\n",
              "      <td>1000</td>\n",
              "      <td>20</td>\n",
              "      <td>reading</td>\n",
              "      <td>64</td>\n",
              "    </tr>\n",
              "    <tr>\n",
              "      <th>insured_relationship</th>\n",
              "      <td>1000</td>\n",
              "      <td>6</td>\n",
              "      <td>own-child</td>\n",
              "      <td>183</td>\n",
              "    </tr>\n",
              "    <tr>\n",
              "      <th>incident_type</th>\n",
              "      <td>1000</td>\n",
              "      <td>4</td>\n",
              "      <td>Multi-vehicle Collision</td>\n",
              "      <td>419</td>\n",
              "    </tr>\n",
              "    <tr>\n",
              "      <th>collision_type</th>\n",
              "      <td>1000</td>\n",
              "      <td>3</td>\n",
              "      <td>Rear Collision</td>\n",
              "      <td>470</td>\n",
              "    </tr>\n",
              "    <tr>\n",
              "      <th>incident_severity</th>\n",
              "      <td>1000</td>\n",
              "      <td>4</td>\n",
              "      <td>Minor Damage</td>\n",
              "      <td>354</td>\n",
              "    </tr>\n",
              "    <tr>\n",
              "      <th>authorities_contacted</th>\n",
              "      <td>1000</td>\n",
              "      <td>5</td>\n",
              "      <td>Police</td>\n",
              "      <td>292</td>\n",
              "    </tr>\n",
              "    <tr>\n",
              "      <th>incident_state</th>\n",
              "      <td>1000</td>\n",
              "      <td>7</td>\n",
              "      <td>NY</td>\n",
              "      <td>262</td>\n",
              "    </tr>\n",
              "    <tr>\n",
              "      <th>incident_city</th>\n",
              "      <td>1000</td>\n",
              "      <td>7</td>\n",
              "      <td>Springfield</td>\n",
              "      <td>157</td>\n",
              "    </tr>\n",
              "    <tr>\n",
              "      <th>incident_location</th>\n",
              "      <td>1000</td>\n",
              "      <td>1000</td>\n",
              "      <td>3797 Solo Lane</td>\n",
              "      <td>1</td>\n",
              "    </tr>\n",
              "    <tr>\n",
              "      <th>property_damage</th>\n",
              "      <td>1000</td>\n",
              "      <td>2</td>\n",
              "      <td>NO</td>\n",
              "      <td>698</td>\n",
              "    </tr>\n",
              "    <tr>\n",
              "      <th>police_report_available</th>\n",
              "      <td>1000</td>\n",
              "      <td>2</td>\n",
              "      <td>NO</td>\n",
              "      <td>686</td>\n",
              "    </tr>\n",
              "    <tr>\n",
              "      <th>auto_make</th>\n",
              "      <td>1000</td>\n",
              "      <td>14</td>\n",
              "      <td>Dodge</td>\n",
              "      <td>80</td>\n",
              "    </tr>\n",
              "    <tr>\n",
              "      <th>auto_model</th>\n",
              "      <td>1000</td>\n",
              "      <td>39</td>\n",
              "      <td>RAM</td>\n",
              "      <td>43</td>\n",
              "    </tr>\n",
              "    <tr>\n",
              "      <th>fraud_reported</th>\n",
              "      <td>1000</td>\n",
              "      <td>2</td>\n",
              "      <td>N</td>\n",
              "      <td>753</td>\n",
              "    </tr>\n",
              "  </tbody>\n",
              "</table>\n",
              "</div>"
            ],
            "text/plain": [
              "                        count unique                      top freq\n",
              "policy_state             1000      3                       OH  352\n",
              "policy_csl               1000      3                  250/500  351\n",
              "insured_sex              1000      2                   FEMALE  537\n",
              "insured_education_level  1000      7                       JD  161\n",
              "insured_occupation       1000     14        machine-op-inspct   93\n",
              "insured_hobbies          1000     20                  reading   64\n",
              "insured_relationship     1000      6                own-child  183\n",
              "incident_type            1000      4  Multi-vehicle Collision  419\n",
              "collision_type           1000      3           Rear Collision  470\n",
              "incident_severity        1000      4             Minor Damage  354\n",
              "authorities_contacted    1000      5                   Police  292\n",
              "incident_state           1000      7                       NY  262\n",
              "incident_city            1000      7              Springfield  157\n",
              "incident_location        1000   1000           3797 Solo Lane    1\n",
              "property_damage          1000      2                       NO  698\n",
              "police_report_available  1000      2                       NO  686\n",
              "auto_make                1000     14                    Dodge   80\n",
              "auto_model               1000     39                      RAM   43\n",
              "fraud_reported           1000      2                        N  753"
            ]
          },
          "execution_count": 14,
          "metadata": {},
          "output_type": "execute_result"
        }
      ],
      "source": [
        "df_copy.select_dtypes(include='object').describe().transpose()"
      ]
    },
    {
      "cell_type": "markdown",
      "id": "pressed-completion",
      "metadata": {
        "papermill": {
          "duration": 0.048812,
          "end_time": "2021-05-05T15:56:02.287273",
          "exception": false,
          "start_time": "2021-05-05T15:56:02.238461",
          "status": "completed"
        },
        "tags": [],
        "id": "pressed-completion"
      },
      "source": [
        "## 2. Outlier Analysis"
      ]
    },
    {
      "cell_type": "code",
      "execution_count": null,
      "id": "agricultural-wright",
      "metadata": {
        "execution": {
          "iopub.execute_input": "2021-05-05T15:56:02.389502Z",
          "iopub.status.busy": "2021-05-05T15:56:02.388868Z",
          "iopub.status.idle": "2021-05-05T15:56:02.890770Z",
          "shell.execute_reply": "2021-05-05T15:56:02.890105Z"
        },
        "papermill": {
          "duration": 0.553498,
          "end_time": "2021-05-05T15:56:02.890920",
          "exception": false,
          "start_time": "2021-05-05T15:56:02.337422",
          "status": "completed"
        },
        "tags": [],
        "id": "agricultural-wright",
        "outputId": "8cb000c9-e4b2-400c-b644-d634df8a0883"
      },
      "outputs": [
        {
          "data": {
            "text/plain": [
              "(array([ 1,  2,  3,  4,  5,  6,  7,  8,  9, 10, 11, 12, 13, 14, 15, 16, 17,\n",
              "        18]),\n",
              " [Text(1, 0, 'months_as_customer'),\n",
              "  Text(2, 0, 'age'),\n",
              "  Text(3, 0, 'policy_number'),\n",
              "  Text(4, 0, 'policy_deductable'),\n",
              "  Text(5, 0, 'policy_annual_premium'),\n",
              "  Text(6, 0, 'umbrella_limit'),\n",
              "  Text(7, 0, 'insured_zip'),\n",
              "  Text(8, 0, 'capital-gains'),\n",
              "  Text(9, 0, 'capital-loss'),\n",
              "  Text(10, 0, 'incident_hour_of_the_day'),\n",
              "  Text(11, 0, 'number_of_vehicles_involved'),\n",
              "  Text(12, 0, 'bodily_injuries'),\n",
              "  Text(13, 0, 'witnesses'),\n",
              "  Text(14, 0, 'total_claim_amount'),\n",
              "  Text(15, 0, 'injury_claim'),\n",
              "  Text(16, 0, 'property_claim'),\n",
              "  Text(17, 0, 'vehicle_claim'),\n",
              "  Text(18, 0, 'auto_year')])"
            ]
          },
          "execution_count": 15,
          "metadata": {},
          "output_type": "execute_result"
        },
        {
          "data": {
            "image/png": "[encoded data removed]",
            "text/plain": [
              "<Figure size 1152x432 with 1 Axes>"
            ]
          },
          "metadata": {
            "needs_background": "light"
          },
          "output_type": "display_data"
        }
      ],
      "source": [
        "df_copy.plot.box(figsize = (16,6))\n",
        "plt.xticks(rotation = 90)"
      ]
    },
    {
      "cell_type": "code",
      "execution_count": null,
      "id": "protective-bacon",
      "metadata": {
        "execution": {
          "iopub.execute_input": "2021-05-05T15:56:02.999723Z",
          "iopub.status.busy": "2021-05-05T15:56:02.998761Z",
          "iopub.status.idle": "2021-05-05T15:56:03.002561Z",
          "shell.execute_reply": "2021-05-05T15:56:03.003092Z"
        },
        "papermill": {
          "duration": 0.060481,
          "end_time": "2021-05-05T15:56:03.003284",
          "exception": false,
          "start_time": "2021-05-05T15:56:02.942803",
          "status": "completed"
        },
        "tags": [],
        "id": "protective-bacon"
      },
      "outputs": [],
      "source": [
        "#import sklearn.preprocessing as pre\n",
        "#lb=pre.LabelEncoder()\n",
        "\n",
        "#df_copy['fraud_reported']=lb.fit_transform(df_copy['fraud_reported'])"
      ]
    },
    {
      "cell_type": "code",
      "execution_count": null,
      "id": "naughty-domain",
      "metadata": {
        "execution": {
          "iopub.execute_input": "2021-05-05T15:56:03.110640Z",
          "iopub.status.busy": "2021-05-05T15:56:03.109576Z",
          "iopub.status.idle": "2021-05-05T15:56:05.052724Z",
          "shell.execute_reply": "2021-05-05T15:56:05.053247Z"
        },
        "papermill": {
          "duration": 1.998041,
          "end_time": "2021-05-05T15:56:05.053419",
          "exception": false,
          "start_time": "2021-05-05T15:56:03.055378",
          "status": "completed"
        },
        "tags": [],
        "id": "naughty-domain",
        "outputId": "5dfa2bbc-b4ef-44d7-d734-b54a6c456e23"
      },
      "outputs": [
        {
          "data": {
            "text/plain": [
              "Text(0.5, 1.0, 'Correlation matrix for numerical features')"
            ]
          },
          "execution_count": 17,
          "metadata": {},
          "output_type": "execute_result"
        },
        {
          "data": {
            "image/png": "[encoded data removed]",
            "text/plain": [
              "<Figure size 720x720 with 2 Axes>"
            ]
          },
          "metadata": {
            "needs_background": "light"
          },
          "output_type": "display_data"
        }
      ],
      "source": [
        "#correlation matrix for numerical variables\n",
        "\n",
        "plt.figure(figsize = (10, 10))\n",
        "sns.heatmap(df_copy.corr(), annot = True, cmap = 'Blues')\n",
        "plt.title('Correlation matrix for numerical features')"
      ]
    },
    {
      "cell_type": "markdown",
      "id": "incorrect-collar",
      "metadata": {
        "papermill": {
          "duration": 0.056992,
          "end_time": "2021-05-05T15:56:05.169969",
          "exception": false,
          "start_time": "2021-05-05T15:56:05.112977",
          "status": "completed"
        },
        "tags": [],
        "id": "incorrect-collar"
      },
      "source": [
        "## 3. Data Visualisation"
      ]
    },
    {
      "cell_type": "code",
      "execution_count": null,
      "id": "pacific-profile",
      "metadata": {
        "execution": {
          "iopub.execute_input": "2021-05-05T15:56:05.288503Z",
          "iopub.status.busy": "2021-05-05T15:56:05.287501Z",
          "iopub.status.idle": "2021-05-05T15:56:05.292043Z",
          "shell.execute_reply": "2021-05-05T15:56:05.292493Z"
        },
        "papermill": {
          "duration": 0.065213,
          "end_time": "2021-05-05T15:56:05.292708",
          "exception": false,
          "start_time": "2021-05-05T15:56:05.227495",
          "status": "completed"
        },
        "tags": [],
        "id": "pacific-profile"
      },
      "outputs": [],
      "source": [
        "#function for crosstabs\n",
        "def cross_tab(x,y):\n",
        "    crtab = pd.crosstab(df_copy[x], df_copy[y])\n",
        "    return crtab\n"
      ]
    },
    {
      "cell_type": "code",
      "execution_count": null,
      "id": "corporate-bangladesh",
      "metadata": {
        "execution": {
          "iopub.execute_input": "2021-05-05T15:56:05.411442Z",
          "iopub.status.busy": "2021-05-05T15:56:05.410438Z",
          "iopub.status.idle": "2021-05-05T15:56:05.546733Z",
          "shell.execute_reply": "2021-05-05T15:56:05.547252Z"
        },
        "papermill": {
          "duration": 0.197451,
          "end_time": "2021-05-05T15:56:05.547426",
          "exception": false,
          "start_time": "2021-05-05T15:56:05.349975",
          "status": "completed"
        },
        "tags": [],
        "id": "corporate-bangladesh",
        "outputId": "30bfbb02-f3e3-431d-82e8-e006dbd137c9"
      },
      "outputs": [
        {
          "name": "stdout",
          "output_type": "stream",
          "text": [
            "N    753\n",
            "Y    247\n",
            "Name: fraud_reported, dtype: int64\n"
          ]
        },
        {
          "data": {
            "text/plain": [
              "<AxesSubplot:>"
            ]
          },
          "execution_count": 19,
          "metadata": {},
          "output_type": "execute_result"
        },
        {
          "data": {
            "image/png": "[encoded data removed]",
            "text/plain": [
              "<Figure size 432x288 with 1 Axes>"
            ]
          },
          "metadata": {
            "needs_background": "light"
          },
          "output_type": "display_data"
        }
      ],
      "source": [
        "#Number of fraud claim\n",
        "\n",
        "p = df_copy['fraud_reported'].value_counts()\n",
        "print(p)\n",
        "df_copy['fraud_reported'].value_counts().plot.bar()\n"
      ]
    },
    {
      "cell_type": "code",
      "execution_count": null,
      "id": "common-kelly",
      "metadata": {
        "execution": {
          "iopub.execute_input": "2021-05-05T15:56:05.693698Z",
          "iopub.status.busy": "2021-05-05T15:56:05.692992Z",
          "iopub.status.idle": "2021-05-05T15:56:05.788458Z",
          "shell.execute_reply": "2021-05-05T15:56:05.789008Z"
        },
        "papermill": {
          "duration": 0.182544,
          "end_time": "2021-05-05T15:56:05.789186",
          "exception": false,
          "start_time": "2021-05-05T15:56:05.606642",
          "status": "completed"
        },
        "tags": [],
        "id": "common-kelly",
        "outputId": "b6ef317e-19a0-4514-d77c-281acc923bd8"
      },
      "outputs": [
        {
          "data": {
            "text/plain": [
              "<AxesSubplot:xlabel='fraud_reported', ylabel='count'>"
            ]
          },
          "execution_count": 20,
          "metadata": {},
          "output_type": "execute_result"
        },
        {
          "data": {
            "image/png": "[encoded data removed]",
            "text/plain": [
              "<Figure size 432x288 with 1 Axes>"
            ]
          },
          "metadata": {
            "needs_background": "light"
          },
          "output_type": "display_data"
        }
      ],
      "source": [
        "sns.countplot(x=df_copy['fraud_reported'])"
      ]
    },
    {
      "cell_type": "code",
      "execution_count": null,
      "id": "expanded-shore",
      "metadata": {
        "execution": {
          "iopub.execute_input": "2021-05-05T15:56:05.913300Z",
          "iopub.status.busy": "2021-05-05T15:56:05.912476Z",
          "iopub.status.idle": "2021-05-05T15:56:06.601450Z",
          "shell.execute_reply": "2021-05-05T15:56:06.600799Z"
        },
        "papermill": {
          "duration": 0.752399,
          "end_time": "2021-05-05T15:56:06.601590",
          "exception": false,
          "start_time": "2021-05-05T15:56:05.849191",
          "status": "completed"
        },
        "tags": [],
        "id": "expanded-shore",
        "outputId": "b4cfc44e-80bd-4c39-ef93-ae3705c3d4bb"
      },
      "outputs": [
        {
          "data": {
            "text/plain": [
              "<AxesSubplot:xlabel='age'>"
            ]
          },
          "execution_count": 21,
          "metadata": {},
          "output_type": "execute_result"
        },
        {
          "data": {
            "image/png": "[encoded data removed]",
            "text/plain": [
              "<Figure size 432x288 with 1 Axes>"
            ]
          },
          "metadata": {
            "needs_background": "light"
          },
          "output_type": "display_data"
        }
      ],
      "source": [
        "#Age v/s fraud reported\n",
        "\n",
        "\n",
        "table=pd.crosstab(df_copy.age,df_copy.fraud_reported)\n",
        "stacked_data = table.apply(lambda x: x*100/sum(x), axis=1)\n",
        "stacked_data.plot(kind=\"bar\", stacked=True)"
      ]
    },
    {
      "cell_type": "code",
      "execution_count": null,
      "id": "executive-increase",
      "metadata": {
        "execution": {
          "iopub.execute_input": "2021-05-05T15:56:06.728466Z",
          "iopub.status.busy": "2021-05-05T15:56:06.727701Z",
          "iopub.status.idle": "2021-05-05T15:56:06.747897Z",
          "shell.execute_reply": "2021-05-05T15:56:06.748410Z"
        },
        "papermill": {
          "duration": 0.085096,
          "end_time": "2021-05-05T15:56:06.748634",
          "exception": false,
          "start_time": "2021-05-05T15:56:06.663538",
          "status": "completed"
        },
        "tags": [],
        "id": "executive-increase",
        "outputId": "44579282-a3b0-4dd0-835f-dee7ae4d8805"
      },
      "outputs": [
        {
          "data": {
            "text/html": [
              "<div>\n",
              "<style scoped>\n",
              "    .dataframe tbody tr th:only-of-type {\n",
              "        vertical-align: middle;\n",
              "    }\n",
              "\n",
              "    .dataframe tbody tr th {\n",
              "        vertical-align: top;\n",
              "    }\n",
              "\n",
              "    .dataframe thead th {\n",
              "        text-align: right;\n",
              "    }\n",
              "</style>\n",
              "<table border=\"1\" class=\"dataframe\">\n",
              "  <thead>\n",
              "    <tr style=\"text-align: right;\">\n",
              "      <th>fraud_reported</th>\n",
              "      <th>N</th>\n",
              "      <th>Y</th>\n",
              "    </tr>\n",
              "    <tr>\n",
              "      <th>insured_sex</th>\n",
              "      <th></th>\n",
              "      <th></th>\n",
              "    </tr>\n",
              "  </thead>\n",
              "  <tbody>\n",
              "    <tr>\n",
              "      <th>FEMALE</th>\n",
              "      <td>411</td>\n",
              "      <td>126</td>\n",
              "    </tr>\n",
              "    <tr>\n",
              "      <th>MALE</th>\n",
              "      <td>342</td>\n",
              "      <td>121</td>\n",
              "    </tr>\n",
              "  </tbody>\n",
              "</table>\n",
              "</div>"
            ],
            "text/plain": [
              "fraud_reported    N    Y\n",
              "insured_sex             \n",
              "FEMALE          411  126\n",
              "MALE            342  121"
            ]
          },
          "execution_count": 22,
          "metadata": {},
          "output_type": "execute_result"
        }
      ],
      "source": [
        "#insured sex v/s fraud reported\n",
        "\n",
        "cross_tab('insured_sex','fraud_reported')"
      ]
    },
    {
      "cell_type": "code",
      "execution_count": null,
      "id": "excessive-kansas",
      "metadata": {
        "execution": {
          "iopub.execute_input": "2021-05-05T15:56:06.877395Z",
          "iopub.status.busy": "2021-05-05T15:56:06.876749Z",
          "iopub.status.idle": "2021-05-05T15:56:07.205983Z",
          "shell.execute_reply": "2021-05-05T15:56:07.206490Z"
        },
        "papermill": {
          "duration": 0.395479,
          "end_time": "2021-05-05T15:56:07.206708",
          "exception": false,
          "start_time": "2021-05-05T15:56:06.811229",
          "status": "completed"
        },
        "tags": [],
        "id": "excessive-kansas",
        "outputId": "a2134946-119d-44c2-bbed-70aa0b09a49f"
      },
      "outputs": [
        {
          "data": {
            "text/plain": [
              "<seaborn.axisgrid.FacetGrid at 0x7f4598a632d0>"
            ]
          },
          "execution_count": 23,
          "metadata": {},
          "output_type": "execute_result"
        },
        {
          "data": {
            "image/png": "[encoded data removed]",
            "text/plain": [
              "<Figure size 442.375x360 with 1 Axes>"
            ]
          },
          "metadata": {
            "needs_background": "light"
          },
          "output_type": "display_data"
        }
      ],
      "source": [
        "sns.catplot(data=df_copy,x='insured_sex',hue='fraud_reported',kind='count')"
      ]
    },
    {
      "cell_type": "code",
      "execution_count": null,
      "id": "controlled-consultancy",
      "metadata": {
        "execution": {
          "iopub.execute_input": "2021-05-05T15:56:07.342345Z",
          "iopub.status.busy": "2021-05-05T15:56:07.341485Z",
          "iopub.status.idle": "2021-05-05T15:56:07.361033Z",
          "shell.execute_reply": "2021-05-05T15:56:07.360315Z"
        },
        "papermill": {
          "duration": 0.091002,
          "end_time": "2021-05-05T15:56:07.361202",
          "exception": false,
          "start_time": "2021-05-05T15:56:07.270200",
          "status": "completed"
        },
        "tags": [],
        "id": "controlled-consultancy",
        "outputId": "91d4c5f8-5cc2-46bf-b546-0998592e7249"
      },
      "outputs": [
        {
          "data": {
            "text/html": [
              "<div>\n",
              "<style scoped>\n",
              "    .dataframe tbody tr th:only-of-type {\n",
              "        vertical-align: middle;\n",
              "    }\n",
              "\n",
              "    .dataframe tbody tr th {\n",
              "        vertical-align: top;\n",
              "    }\n",
              "\n",
              "    .dataframe thead th {\n",
              "        text-align: right;\n",
              "    }\n",
              "</style>\n",
              "<table border=\"1\" class=\"dataframe\">\n",
              "  <thead>\n",
              "    <tr style=\"text-align: right;\">\n",
              "      <th>fraud_reported</th>\n",
              "      <th>N</th>\n",
              "      <th>Y</th>\n",
              "    </tr>\n",
              "    <tr>\n",
              "      <th>policy_state</th>\n",
              "      <th></th>\n",
              "      <th></th>\n",
              "    </tr>\n",
              "  </thead>\n",
              "  <tbody>\n",
              "    <tr>\n",
              "      <th>IL</th>\n",
              "      <td>261</td>\n",
              "      <td>77</td>\n",
              "    </tr>\n",
              "    <tr>\n",
              "      <th>IN</th>\n",
              "      <td>231</td>\n",
              "      <td>79</td>\n",
              "    </tr>\n",
              "    <tr>\n",
              "      <th>OH</th>\n",
              "      <td>261</td>\n",
              "      <td>91</td>\n",
              "    </tr>\n",
              "  </tbody>\n",
              "</table>\n",
              "</div>"
            ],
            "text/plain": [
              "fraud_reported    N   Y\n",
              "policy_state           \n",
              "IL              261  77\n",
              "IN              231  79\n",
              "OH              261  91"
            ]
          },
          "execution_count": 24,
          "metadata": {},
          "output_type": "execute_result"
        }
      ],
      "source": [
        "#policy state v/s fraud reported\n",
        "\n",
        "cross_tab('policy_state','fraud_reported')"
      ]
    },
    {
      "cell_type": "code",
      "execution_count": null,
      "id": "bottom-rochester",
      "metadata": {
        "execution": {
          "iopub.execute_input": "2021-05-05T15:56:07.498387Z",
          "iopub.status.busy": "2021-05-05T15:56:07.497650Z",
          "iopub.status.idle": "2021-05-05T15:56:07.816842Z",
          "shell.execute_reply": "2021-05-05T15:56:07.816295Z"
        },
        "papermill": {
          "duration": 0.391153,
          "end_time": "2021-05-05T15:56:07.816985",
          "exception": false,
          "start_time": "2021-05-05T15:56:07.425832",
          "status": "completed"
        },
        "tags": [],
        "id": "bottom-rochester",
        "outputId": "3dfb6f76-101f-43e8-836e-152c61bad7af"
      },
      "outputs": [
        {
          "data": {
            "text/plain": [
              "<seaborn.axisgrid.FacetGrid at 0x7f4596972f10>"
            ]
          },
          "execution_count": 25,
          "metadata": {},
          "output_type": "execute_result"
        },
        {
          "data": {
            "image/png": "[encoded data removed]",
            "text/plain": [
              "<Figure size 442.375x360 with 1 Axes>"
            ]
          },
          "metadata": {
            "needs_background": "light"
          },
          "output_type": "display_data"
        }
      ],
      "source": [
        "sns.catplot(data=df_copy,x='policy_state',hue='fraud_reported',kind='count')"
      ]
    },
    {
      "cell_type": "code",
      "execution_count": null,
      "id": "attended-colors",
      "metadata": {
        "execution": {
          "iopub.execute_input": "2021-05-05T15:56:07.958699Z",
          "iopub.status.busy": "2021-05-05T15:56:07.958010Z",
          "iopub.status.idle": "2021-05-05T15:56:08.331093Z",
          "shell.execute_reply": "2021-05-05T15:56:08.330500Z"
        },
        "papermill": {
          "duration": 0.448843,
          "end_time": "2021-05-05T15:56:08.331233",
          "exception": false,
          "start_time": "2021-05-05T15:56:07.882390",
          "status": "completed"
        },
        "tags": [],
        "id": "attended-colors",
        "outputId": "25a22b08-ff58-4943-d49d-fe0018700a18"
      },
      "outputs": [
        {
          "data": {
            "text/plain": [
              "<AxesSubplot:xlabel='incident_hour_of_the_day'>"
            ]
          },
          "execution_count": 26,
          "metadata": {},
          "output_type": "execute_result"
        },
        {
          "data": {
            "image/png": "[encoded data removed]",
            "text/plain": [
              "<Figure size 432x288 with 1 Axes>"
            ]
          },
          "metadata": {
            "needs_background": "light"
          },
          "output_type": "display_data"
        }
      ],
      "source": [
        "#Hour in which incident happend\n",
        "\n",
        "table1=pd.crosstab(df_copy['incident_hour_of_the_day'],df_copy['fraud_reported'])\n",
        "stacked_data = table1.apply(lambda x: x*100/sum(x), axis=1)\n",
        "stacked_data.plot(kind=\"bar\", stacked=True)"
      ]
    },
    {
      "cell_type": "code",
      "execution_count": null,
      "id": "driving-killing",
      "metadata": {
        "execution": {
          "iopub.execute_input": "2021-05-05T15:56:08.470221Z",
          "iopub.status.busy": "2021-05-05T15:56:08.469146Z",
          "iopub.status.idle": "2021-05-05T15:56:08.490834Z",
          "shell.execute_reply": "2021-05-05T15:56:08.490270Z"
        },
        "papermill": {
          "duration": 0.094067,
          "end_time": "2021-05-05T15:56:08.490974",
          "exception": false,
          "start_time": "2021-05-05T15:56:08.396907",
          "status": "completed"
        },
        "tags": [],
        "id": "driving-killing",
        "outputId": "3d597570-7008-415a-e697-f89f176b9059"
      },
      "outputs": [
        {
          "data": {
            "text/html": [
              "<div>\n",
              "<style scoped>\n",
              "    .dataframe tbody tr th:only-of-type {\n",
              "        vertical-align: middle;\n",
              "    }\n",
              "\n",
              "    .dataframe tbody tr th {\n",
              "        vertical-align: top;\n",
              "    }\n",
              "\n",
              "    .dataframe thead th {\n",
              "        text-align: right;\n",
              "    }\n",
              "</style>\n",
              "<table border=\"1\" class=\"dataframe\">\n",
              "  <thead>\n",
              "    <tr style=\"text-align: right;\">\n",
              "      <th>fraud_reported</th>\n",
              "      <th>N</th>\n",
              "      <th>Y</th>\n",
              "    </tr>\n",
              "    <tr>\n",
              "      <th>incident_hour_of_the_day</th>\n",
              "      <th></th>\n",
              "      <th></th>\n",
              "    </tr>\n",
              "  </thead>\n",
              "  <tbody>\n",
              "    <tr>\n",
              "      <th>0</th>\n",
              "      <td>40</td>\n",
              "      <td>12</td>\n",
              "    </tr>\n",
              "    <tr>\n",
              "      <th>1</th>\n",
              "      <td>21</td>\n",
              "      <td>8</td>\n",
              "    </tr>\n",
              "    <tr>\n",
              "      <th>2</th>\n",
              "      <td>21</td>\n",
              "      <td>10</td>\n",
              "    </tr>\n",
              "    <tr>\n",
              "      <th>3</th>\n",
              "      <td>41</td>\n",
              "      <td>12</td>\n",
              "    </tr>\n",
              "    <tr>\n",
              "      <th>4</th>\n",
              "      <td>38</td>\n",
              "      <td>8</td>\n",
              "    </tr>\n",
              "    <tr>\n",
              "      <th>5</th>\n",
              "      <td>24</td>\n",
              "      <td>9</td>\n",
              "    </tr>\n",
              "    <tr>\n",
              "      <th>6</th>\n",
              "      <td>30</td>\n",
              "      <td>14</td>\n",
              "    </tr>\n",
              "    <tr>\n",
              "      <th>7</th>\n",
              "      <td>32</td>\n",
              "      <td>8</td>\n",
              "    </tr>\n",
              "    <tr>\n",
              "      <th>8</th>\n",
              "      <td>30</td>\n",
              "      <td>6</td>\n",
              "    </tr>\n",
              "    <tr>\n",
              "      <th>9</th>\n",
              "      <td>39</td>\n",
              "      <td>4</td>\n",
              "    </tr>\n",
              "    <tr>\n",
              "      <th>10</th>\n",
              "      <td>31</td>\n",
              "      <td>15</td>\n",
              "    </tr>\n",
              "    <tr>\n",
              "      <th>11</th>\n",
              "      <td>18</td>\n",
              "      <td>12</td>\n",
              "    </tr>\n",
              "    <tr>\n",
              "      <th>12</th>\n",
              "      <td>32</td>\n",
              "      <td>8</td>\n",
              "    </tr>\n",
              "    <tr>\n",
              "      <th>13</th>\n",
              "      <td>38</td>\n",
              "      <td>8</td>\n",
              "    </tr>\n",
              "    <tr>\n",
              "      <th>14</th>\n",
              "      <td>28</td>\n",
              "      <td>15</td>\n",
              "    </tr>\n",
              "    <tr>\n",
              "      <th>15</th>\n",
              "      <td>26</td>\n",
              "      <td>13</td>\n",
              "    </tr>\n",
              "    <tr>\n",
              "      <th>16</th>\n",
              "      <td>33</td>\n",
              "      <td>16</td>\n",
              "    </tr>\n",
              "    <tr>\n",
              "      <th>17</th>\n",
              "      <td>46</td>\n",
              "      <td>8</td>\n",
              "    </tr>\n",
              "    <tr>\n",
              "      <th>18</th>\n",
              "      <td>27</td>\n",
              "      <td>14</td>\n",
              "    </tr>\n",
              "    <tr>\n",
              "      <th>19</th>\n",
              "      <td>31</td>\n",
              "      <td>9</td>\n",
              "    </tr>\n",
              "    <tr>\n",
              "      <th>20</th>\n",
              "      <td>25</td>\n",
              "      <td>9</td>\n",
              "    </tr>\n",
              "    <tr>\n",
              "      <th>21</th>\n",
              "      <td>32</td>\n",
              "      <td>10</td>\n",
              "    </tr>\n",
              "    <tr>\n",
              "      <th>22</th>\n",
              "      <td>33</td>\n",
              "      <td>5</td>\n",
              "    </tr>\n",
              "    <tr>\n",
              "      <th>23</th>\n",
              "      <td>37</td>\n",
              "      <td>14</td>\n",
              "    </tr>\n",
              "  </tbody>\n",
              "</table>\n",
              "</div>"
            ],
            "text/plain": [
              "fraud_reported             N   Y\n",
              "incident_hour_of_the_day        \n",
              "0                         40  12\n",
              "1                         21   8\n",
              "2                         21  10\n",
              "3                         41  12\n",
              "4                         38   8\n",
              "5                         24   9\n",
              "6                         30  14\n",
              "7                         32   8\n",
              "8                         30   6\n",
              "9                         39   4\n",
              "10                        31  15\n",
              "11                        18  12\n",
              "12                        32   8\n",
              "13                        38   8\n",
              "14                        28  15\n",
              "15                        26  13\n",
              "16                        33  16\n",
              "17                        46   8\n",
              "18                        27  14\n",
              "19                        31   9\n",
              "20                        25   9\n",
              "21                        32  10\n",
              "22                        33   5\n",
              "23                        37  14"
            ]
          },
          "execution_count": 27,
          "metadata": {},
          "output_type": "execute_result"
        }
      ],
      "source": [
        "#Hour in which incident happend\n",
        "\n",
        "cross_tab('incident_hour_of_the_day','fraud_reported')"
      ]
    },
    {
      "cell_type": "code",
      "execution_count": null,
      "id": "homeless-evidence",
      "metadata": {
        "execution": {
          "iopub.execute_input": "2021-05-05T15:56:08.631840Z",
          "iopub.status.busy": "2021-05-05T15:56:08.630730Z",
          "iopub.status.idle": "2021-05-05T15:56:09.024301Z",
          "shell.execute_reply": "2021-05-05T15:56:09.023636Z"
        },
        "papermill": {
          "duration": 0.466927,
          "end_time": "2021-05-05T15:56:09.024437",
          "exception": false,
          "start_time": "2021-05-05T15:56:08.557510",
          "status": "completed"
        },
        "tags": [],
        "id": "homeless-evidence",
        "outputId": "d8e56855-3c04-4ae0-bda3-cf30f1398e0f"
      },
      "outputs": [
        {
          "data": {
            "text/plain": [
              "(array([ 0,  1,  2,  3,  4,  5,  6,  7,  8,  9, 10, 11, 12, 13, 14, 15, 16,\n",
              "        17, 18, 19, 20, 21, 22, 23]),\n",
              " [Text(0, 0, '0'),\n",
              "  Text(1, 0, '1'),\n",
              "  Text(2, 0, '2'),\n",
              "  Text(3, 0, '3'),\n",
              "  Text(4, 0, '4'),\n",
              "  Text(5, 0, '5'),\n",
              "  Text(6, 0, '6'),\n",
              "  Text(7, 0, '7'),\n",
              "  Text(8, 0, '8'),\n",
              "  Text(9, 0, '9'),\n",
              "  Text(10, 0, '10'),\n",
              "  Text(11, 0, '11'),\n",
              "  Text(12, 0, '12'),\n",
              "  Text(13, 0, '13'),\n",
              "  Text(14, 0, '14'),\n",
              "  Text(15, 0, '15'),\n",
              "  Text(16, 0, '16'),\n",
              "  Text(17, 0, '17'),\n",
              "  Text(18, 0, '18'),\n",
              "  Text(19, 0, '19'),\n",
              "  Text(20, 0, '20'),\n",
              "  Text(21, 0, '21'),\n",
              "  Text(22, 0, '22'),\n",
              "  Text(23, 0, '23')])"
            ]
          },
          "execution_count": 28,
          "metadata": {},
          "output_type": "execute_result"
        },
        {
          "data": {
            "image/png": "[encoded data removed]",
            "text/plain": [
              "<Figure size 432x288 with 1 Axes>"
            ]
          },
          "metadata": {
            "needs_background": "light"
          },
          "output_type": "display_data"
        }
      ],
      "source": [
        "sns.countplot(data = df_copy,x ='incident_hour_of_the_day',hue='fraud_reported')\n",
        "plt.xticks(rotation = 90)"
      ]
    },
    {
      "cell_type": "code",
      "execution_count": null,
      "id": "material-writer",
      "metadata": {
        "execution": {
          "iopub.execute_input": "2021-05-05T15:56:09.175825Z",
          "iopub.status.busy": "2021-05-05T15:56:09.168397Z",
          "iopub.status.idle": "2021-05-05T15:56:09.189220Z",
          "shell.execute_reply": "2021-05-05T15:56:09.188639Z"
        },
        "papermill": {
          "duration": 0.095544,
          "end_time": "2021-05-05T15:56:09.189365",
          "exception": false,
          "start_time": "2021-05-05T15:56:09.093821",
          "status": "completed"
        },
        "tags": [],
        "id": "material-writer",
        "outputId": "ec525098-cd02-465c-fe7e-81373919e28e"
      },
      "outputs": [
        {
          "data": {
            "text/html": [
              "<div>\n",
              "<style scoped>\n",
              "    .dataframe tbody tr th:only-of-type {\n",
              "        vertical-align: middle;\n",
              "    }\n",
              "\n",
              "    .dataframe tbody tr th {\n",
              "        vertical-align: top;\n",
              "    }\n",
              "\n",
              "    .dataframe thead th {\n",
              "        text-align: right;\n",
              "    }\n",
              "</style>\n",
              "<table border=\"1\" class=\"dataframe\">\n",
              "  <thead>\n",
              "    <tr style=\"text-align: right;\">\n",
              "      <th>fraud_reported</th>\n",
              "      <th>N</th>\n",
              "      <th>Y</th>\n",
              "    </tr>\n",
              "    <tr>\n",
              "      <th>incident_type</th>\n",
              "      <th></th>\n",
              "      <th></th>\n",
              "    </tr>\n",
              "  </thead>\n",
              "  <tbody>\n",
              "    <tr>\n",
              "      <th>Multi-vehicle Collision</th>\n",
              "      <td>305</td>\n",
              "      <td>114</td>\n",
              "    </tr>\n",
              "    <tr>\n",
              "      <th>Parked Car</th>\n",
              "      <td>76</td>\n",
              "      <td>8</td>\n",
              "    </tr>\n",
              "    <tr>\n",
              "      <th>Single Vehicle Collision</th>\n",
              "      <td>286</td>\n",
              "      <td>117</td>\n",
              "    </tr>\n",
              "    <tr>\n",
              "      <th>Vehicle Theft</th>\n",
              "      <td>86</td>\n",
              "      <td>8</td>\n",
              "    </tr>\n",
              "  </tbody>\n",
              "</table>\n",
              "</div>"
            ],
            "text/plain": [
              "fraud_reported              N    Y\n",
              "incident_type                     \n",
              "Multi-vehicle Collision   305  114\n",
              "Parked Car                 76    8\n",
              "Single Vehicle Collision  286  117\n",
              "Vehicle Theft              86    8"
            ]
          },
          "execution_count": 29,
          "metadata": {},
          "output_type": "execute_result"
        }
      ],
      "source": [
        "#incident type v/s fraud reported\n",
        "\n",
        "cross_tab('incident_type','fraud_reported')"
      ]
    },
    {
      "cell_type": "code",
      "execution_count": null,
      "id": "catholic-tracy",
      "metadata": {
        "execution": {
          "iopub.execute_input": "2021-05-05T15:56:09.504498Z",
          "iopub.status.busy": "2021-05-05T15:56:09.340247Z",
          "iopub.status.idle": "2021-05-05T15:56:09.832823Z",
          "shell.execute_reply": "2021-05-05T15:56:09.832216Z"
        },
        "papermill": {
          "duration": 0.572956,
          "end_time": "2021-05-05T15:56:09.832967",
          "exception": false,
          "start_time": "2021-05-05T15:56:09.260011",
          "status": "completed"
        },
        "tags": [],
        "id": "catholic-tracy",
        "outputId": "e4668ad4-3149-4bf6-a9b7-30e690bba26d"
      },
      "outputs": [
        {
          "data": {
            "text/plain": [
              "(array([0, 1, 2, 3]),\n",
              " [Text(0, 0, 'Single Vehicle Collision'),\n",
              "  Text(1, 0, 'Vehicle Theft'),\n",
              "  Text(2, 0, 'Multi-vehicle Collision'),\n",
              "  Text(3, 0, 'Parked Car')])"
            ]
          },
          "execution_count": 30,
          "metadata": {},
          "output_type": "execute_result"
        },
        {
          "data": {
            "image/png": "[encoded data removed]",
            "text/plain": [
              "<Figure size 442.375x360 with 1 Axes>"
            ]
          },
          "metadata": {
            "needs_background": "light"
          },
          "output_type": "display_data"
        }
      ],
      "source": [
        "sns.catplot(data=df_copy,x='incident_type',hue='fraud_reported',kind='count')\n",
        "plt.xticks(rotation = 90)"
      ]
    },
    {
      "cell_type": "code",
      "execution_count": null,
      "id": "supreme-chair",
      "metadata": {
        "execution": {
          "iopub.execute_input": "2021-05-05T15:56:09.988224Z",
          "iopub.status.busy": "2021-05-05T15:56:09.983314Z",
          "iopub.status.idle": "2021-05-05T15:56:10.002660Z",
          "shell.execute_reply": "2021-05-05T15:56:10.002088Z"
        },
        "papermill": {
          "duration": 0.099604,
          "end_time": "2021-05-05T15:56:10.002826",
          "exception": false,
          "start_time": "2021-05-05T15:56:09.903222",
          "status": "completed"
        },
        "tags": [],
        "id": "supreme-chair",
        "outputId": "18b13d1c-c0b7-43d0-82ad-345494fd1e33"
      },
      "outputs": [
        {
          "data": {
            "text/html": [
              "<div>\n",
              "<style scoped>\n",
              "    .dataframe tbody tr th:only-of-type {\n",
              "        vertical-align: middle;\n",
              "    }\n",
              "\n",
              "    .dataframe tbody tr th {\n",
              "        vertical-align: top;\n",
              "    }\n",
              "\n",
              "    .dataframe thead th {\n",
              "        text-align: right;\n",
              "    }\n",
              "</style>\n",
              "<table border=\"1\" class=\"dataframe\">\n",
              "  <thead>\n",
              "    <tr style=\"text-align: right;\">\n",
              "      <th>fraud_reported</th>\n",
              "      <th>N</th>\n",
              "      <th>Y</th>\n",
              "    </tr>\n",
              "    <tr>\n",
              "      <th>insured_education_level</th>\n",
              "      <th></th>\n",
              "      <th></th>\n",
              "    </tr>\n",
              "  </thead>\n",
              "  <tbody>\n",
              "    <tr>\n",
              "      <th>Associate</th>\n",
              "      <td>111</td>\n",
              "      <td>34</td>\n",
              "    </tr>\n",
              "    <tr>\n",
              "      <th>College</th>\n",
              "      <td>90</td>\n",
              "      <td>32</td>\n",
              "    </tr>\n",
              "    <tr>\n",
              "      <th>High School</th>\n",
              "      <td>124</td>\n",
              "      <td>36</td>\n",
              "    </tr>\n",
              "    <tr>\n",
              "      <th>JD</th>\n",
              "      <td>119</td>\n",
              "      <td>42</td>\n",
              "    </tr>\n",
              "    <tr>\n",
              "      <th>MD</th>\n",
              "      <td>106</td>\n",
              "      <td>38</td>\n",
              "    </tr>\n",
              "    <tr>\n",
              "      <th>Masters</th>\n",
              "      <td>111</td>\n",
              "      <td>32</td>\n",
              "    </tr>\n",
              "    <tr>\n",
              "      <th>PhD</th>\n",
              "      <td>92</td>\n",
              "      <td>33</td>\n",
              "    </tr>\n",
              "  </tbody>\n",
              "</table>\n",
              "</div>"
            ],
            "text/plain": [
              "fraud_reported             N   Y\n",
              "insured_education_level         \n",
              "Associate                111  34\n",
              "College                   90  32\n",
              "High School              124  36\n",
              "JD                       119  42\n",
              "MD                       106  38\n",
              "Masters                  111  32\n",
              "PhD                       92  33"
            ]
          },
          "execution_count": 31,
          "metadata": {},
          "output_type": "execute_result"
        }
      ],
      "source": [
        "#insured education level v/s fraud reported\n",
        "\n",
        "cross_tab('insured_education_level','fraud_reported')"
      ]
    },
    {
      "cell_type": "code",
      "execution_count": null,
      "id": "herbal-smart",
      "metadata": {
        "execution": {
          "iopub.execute_input": "2021-05-05T15:56:10.156428Z",
          "iopub.status.busy": "2021-05-05T15:56:10.155366Z",
          "iopub.status.idle": "2021-05-05T15:56:10.546075Z",
          "shell.execute_reply": "2021-05-05T15:56:10.545486Z"
        },
        "papermill": {
          "duration": 0.471994,
          "end_time": "2021-05-05T15:56:10.546235",
          "exception": false,
          "start_time": "2021-05-05T15:56:10.074241",
          "status": "completed"
        },
        "tags": [],
        "id": "herbal-smart",
        "outputId": "3c999b89-6d39-4a82-ef5c-32bf1989ef1a"
      },
      "outputs": [
        {
          "data": {
            "text/plain": [
              "(array([0, 1, 2, 3, 4, 5, 6]),\n",
              " [Text(0, 0, 'MD'),\n",
              "  Text(1, 0, 'PhD'),\n",
              "  Text(2, 0, 'Associate'),\n",
              "  Text(3, 0, 'Masters'),\n",
              "  Text(4, 0, 'High School'),\n",
              "  Text(5, 0, 'College'),\n",
              "  Text(6, 0, 'JD')])"
            ]
          },
          "execution_count": 32,
          "metadata": {},
          "output_type": "execute_result"
        },
        {
          "data": {
            "image/png": "[encoded data removed]",
            "text/plain": [
              "<Figure size 442.375x360 with 1 Axes>"
            ]
          },
          "metadata": {
            "needs_background": "light"
          },
          "output_type": "display_data"
        }
      ],
      "source": [
        "sns.catplot(data=df_copy,x='insured_education_level',hue='fraud_reported',kind='count')\n",
        "plt.xticks(rotation = 90)"
      ]
    },
    {
      "cell_type": "code",
      "execution_count": null,
      "id": "wound-elizabeth",
      "metadata": {
        "execution": {
          "iopub.execute_input": "2021-05-05T15:56:10.699310Z",
          "iopub.status.busy": "2021-05-05T15:56:10.698277Z",
          "iopub.status.idle": "2021-05-05T15:56:10.718754Z",
          "shell.execute_reply": "2021-05-05T15:56:10.718234Z"
        },
        "papermill": {
          "duration": 0.0999,
          "end_time": "2021-05-05T15:56:10.718901",
          "exception": false,
          "start_time": "2021-05-05T15:56:10.619001",
          "status": "completed"
        },
        "tags": [],
        "id": "wound-elizabeth",
        "outputId": "80779e96-6d8f-43f9-e770-6f47d5e17c4a"
      },
      "outputs": [
        {
          "data": {
            "text/html": [
              "<div>\n",
              "<style scoped>\n",
              "    .dataframe tbody tr th:only-of-type {\n",
              "        vertical-align: middle;\n",
              "    }\n",
              "\n",
              "    .dataframe tbody tr th {\n",
              "        vertical-align: top;\n",
              "    }\n",
              "\n",
              "    .dataframe thead th {\n",
              "        text-align: right;\n",
              "    }\n",
              "</style>\n",
              "<table border=\"1\" class=\"dataframe\">\n",
              "  <thead>\n",
              "    <tr style=\"text-align: right;\">\n",
              "      <th>fraud_reported</th>\n",
              "      <th>N</th>\n",
              "      <th>Y</th>\n",
              "    </tr>\n",
              "    <tr>\n",
              "      <th>insured_occupation</th>\n",
              "      <th></th>\n",
              "      <th></th>\n",
              "    </tr>\n",
              "  </thead>\n",
              "  <tbody>\n",
              "    <tr>\n",
              "      <th>adm-clerical</th>\n",
              "      <td>54</td>\n",
              "      <td>11</td>\n",
              "    </tr>\n",
              "    <tr>\n",
              "      <th>armed-forces</th>\n",
              "      <td>52</td>\n",
              "      <td>17</td>\n",
              "    </tr>\n",
              "    <tr>\n",
              "      <th>craft-repair</th>\n",
              "      <td>52</td>\n",
              "      <td>22</td>\n",
              "    </tr>\n",
              "    <tr>\n",
              "      <th>exec-managerial</th>\n",
              "      <td>48</td>\n",
              "      <td>28</td>\n",
              "    </tr>\n",
              "    <tr>\n",
              "      <th>farming-fishing</th>\n",
              "      <td>37</td>\n",
              "      <td>16</td>\n",
              "    </tr>\n",
              "    <tr>\n",
              "      <th>handlers-cleaners</th>\n",
              "      <td>43</td>\n",
              "      <td>11</td>\n",
              "    </tr>\n",
              "    <tr>\n",
              "      <th>machine-op-inspct</th>\n",
              "      <td>71</td>\n",
              "      <td>22</td>\n",
              "    </tr>\n",
              "    <tr>\n",
              "      <th>other-service</th>\n",
              "      <td>59</td>\n",
              "      <td>12</td>\n",
              "    </tr>\n",
              "    <tr>\n",
              "      <th>priv-house-serv</th>\n",
              "      <td>59</td>\n",
              "      <td>12</td>\n",
              "    </tr>\n",
              "    <tr>\n",
              "      <th>prof-specialty</th>\n",
              "      <td>67</td>\n",
              "      <td>18</td>\n",
              "    </tr>\n",
              "    <tr>\n",
              "      <th>protective-serv</th>\n",
              "      <td>49</td>\n",
              "      <td>14</td>\n",
              "    </tr>\n",
              "    <tr>\n",
              "      <th>sales</th>\n",
              "      <td>55</td>\n",
              "      <td>21</td>\n",
              "    </tr>\n",
              "    <tr>\n",
              "      <th>tech-support</th>\n",
              "      <td>56</td>\n",
              "      <td>22</td>\n",
              "    </tr>\n",
              "    <tr>\n",
              "      <th>transport-moving</th>\n",
              "      <td>51</td>\n",
              "      <td>21</td>\n",
              "    </tr>\n",
              "  </tbody>\n",
              "</table>\n",
              "</div>"
            ],
            "text/plain": [
              "fraud_reported       N   Y\n",
              "insured_occupation        \n",
              "adm-clerical        54  11\n",
              "armed-forces        52  17\n",
              "craft-repair        52  22\n",
              "exec-managerial     48  28\n",
              "farming-fishing     37  16\n",
              "handlers-cleaners   43  11\n",
              "machine-op-inspct   71  22\n",
              "other-service       59  12\n",
              "priv-house-serv     59  12\n",
              "prof-specialty      67  18\n",
              "protective-serv     49  14\n",
              "sales               55  21\n",
              "tech-support        56  22\n",
              "transport-moving    51  21"
            ]
          },
          "execution_count": 33,
          "metadata": {},
          "output_type": "execute_result"
        }
      ],
      "source": [
        "#insured occupation v/s fraud reported\n",
        "\n",
        "cross_tab('insured_occupation','fraud_reported')"
      ]
    },
    {
      "cell_type": "code",
      "execution_count": null,
      "id": "following-lambda",
      "metadata": {
        "execution": {
          "iopub.execute_input": "2021-05-05T15:56:10.899500Z",
          "iopub.status.busy": "2021-05-05T15:56:10.898829Z",
          "iopub.status.idle": "2021-05-05T15:56:11.433861Z",
          "shell.execute_reply": "2021-05-05T15:56:11.434343Z"
        },
        "papermill": {
          "duration": 0.633342,
          "end_time": "2021-05-05T15:56:11.434525",
          "exception": false,
          "start_time": "2021-05-05T15:56:10.801183",
          "status": "completed"
        },
        "tags": [],
        "id": "following-lambda",
        "outputId": "0ec23df7-1684-4bca-c38a-560e40e506a4"
      },
      "outputs": [
        {
          "data": {
            "text/plain": [
              "(array([ 0,  1,  2,  3,  4,  5,  6,  7,  8,  9, 10, 11, 12, 13]),\n",
              " [Text(0, 0, 'craft-repair'),\n",
              "  Text(1, 0, 'machine-op-inspct'),\n",
              "  Text(2, 0, 'sales'),\n",
              "  Text(3, 0, 'armed-forces'),\n",
              "  Text(4, 0, 'tech-support'),\n",
              "  Text(5, 0, 'prof-specialty'),\n",
              "  Text(6, 0, 'other-service'),\n",
              "  Text(7, 0, 'priv-house-serv'),\n",
              "  Text(8, 0, 'exec-managerial'),\n",
              "  Text(9, 0, 'protective-serv'),\n",
              "  Text(10, 0, 'transport-moving'),\n",
              "  Text(11, 0, 'handlers-cleaners'),\n",
              "  Text(12, 0, 'adm-clerical'),\n",
              "  Text(13, 0, 'farming-fishing')])"
            ]
          },
          "execution_count": 34,
          "metadata": {},
          "output_type": "execute_result"
        },
        {
          "data": {
            "image/png": "[encoded data removed]",
            "text/plain": [
              "<Figure size 442.375x360 with 1 Axes>"
            ]
          },
          "metadata": {
            "needs_background": "light"
          },
          "output_type": "display_data"
        }
      ],
      "source": [
        "sns.catplot(data=df_copy,x='insured_occupation',hue='fraud_reported',kind='count')\n",
        "plt.xticks(rotation = 90)"
      ]
    },
    {
      "cell_type": "code",
      "execution_count": null,
      "id": "capable-english",
      "metadata": {
        "execution": {
          "iopub.execute_input": "2021-05-05T15:56:11.586847Z",
          "iopub.status.busy": "2021-05-05T15:56:11.586107Z",
          "iopub.status.idle": "2021-05-05T15:56:11.607597Z",
          "shell.execute_reply": "2021-05-05T15:56:11.608083Z"
        },
        "papermill": {
          "duration": 0.099352,
          "end_time": "2021-05-05T15:56:11.608269",
          "exception": false,
          "start_time": "2021-05-05T15:56:11.508917",
          "status": "completed"
        },
        "tags": [],
        "id": "capable-english",
        "outputId": "c2b24ef9-00a8-4695-e118-f9400fe2027a"
      },
      "outputs": [
        {
          "data": {
            "text/html": [
              "<div>\n",
              "<style scoped>\n",
              "    .dataframe tbody tr th:only-of-type {\n",
              "        vertical-align: middle;\n",
              "    }\n",
              "\n",
              "    .dataframe tbody tr th {\n",
              "        vertical-align: top;\n",
              "    }\n",
              "\n",
              "    .dataframe thead th {\n",
              "        text-align: right;\n",
              "    }\n",
              "</style>\n",
              "<table border=\"1\" class=\"dataframe\">\n",
              "  <thead>\n",
              "    <tr style=\"text-align: right;\">\n",
              "      <th>fraud_reported</th>\n",
              "      <th>N</th>\n",
              "      <th>Y</th>\n",
              "    </tr>\n",
              "    <tr>\n",
              "      <th>insured_hobbies</th>\n",
              "      <th></th>\n",
              "      <th></th>\n",
              "    </tr>\n",
              "  </thead>\n",
              "  <tbody>\n",
              "    <tr>\n",
              "      <th>base-jumping</th>\n",
              "      <td>36</td>\n",
              "      <td>13</td>\n",
              "    </tr>\n",
              "    <tr>\n",
              "      <th>basketball</th>\n",
              "      <td>28</td>\n",
              "      <td>6</td>\n",
              "    </tr>\n",
              "    <tr>\n",
              "      <th>board-games</th>\n",
              "      <td>34</td>\n",
              "      <td>14</td>\n",
              "    </tr>\n",
              "    <tr>\n",
              "      <th>bungie-jumping</th>\n",
              "      <td>47</td>\n",
              "      <td>9</td>\n",
              "    </tr>\n",
              "    <tr>\n",
              "      <th>camping</th>\n",
              "      <td>50</td>\n",
              "      <td>5</td>\n",
              "    </tr>\n",
              "    <tr>\n",
              "      <th>chess</th>\n",
              "      <td>8</td>\n",
              "      <td>38</td>\n",
              "    </tr>\n",
              "    <tr>\n",
              "      <th>cross-fit</th>\n",
              "      <td>9</td>\n",
              "      <td>26</td>\n",
              "    </tr>\n",
              "    <tr>\n",
              "      <th>dancing</th>\n",
              "      <td>38</td>\n",
              "      <td>5</td>\n",
              "    </tr>\n",
              "    <tr>\n",
              "      <th>exercise</th>\n",
              "      <td>46</td>\n",
              "      <td>11</td>\n",
              "    </tr>\n",
              "    <tr>\n",
              "      <th>golf</th>\n",
              "      <td>49</td>\n",
              "      <td>6</td>\n",
              "    </tr>\n",
              "    <tr>\n",
              "      <th>hiking</th>\n",
              "      <td>40</td>\n",
              "      <td>12</td>\n",
              "    </tr>\n",
              "    <tr>\n",
              "      <th>kayaking</th>\n",
              "      <td>49</td>\n",
              "      <td>5</td>\n",
              "    </tr>\n",
              "    <tr>\n",
              "      <th>movies</th>\n",
              "      <td>46</td>\n",
              "      <td>9</td>\n",
              "    </tr>\n",
              "    <tr>\n",
              "      <th>paintball</th>\n",
              "      <td>44</td>\n",
              "      <td>13</td>\n",
              "    </tr>\n",
              "    <tr>\n",
              "      <th>polo</th>\n",
              "      <td>34</td>\n",
              "      <td>13</td>\n",
              "    </tr>\n",
              "    <tr>\n",
              "      <th>reading</th>\n",
              "      <td>47</td>\n",
              "      <td>17</td>\n",
              "    </tr>\n",
              "    <tr>\n",
              "      <th>skydiving</th>\n",
              "      <td>38</td>\n",
              "      <td>11</td>\n",
              "    </tr>\n",
              "    <tr>\n",
              "      <th>sleeping</th>\n",
              "      <td>33</td>\n",
              "      <td>8</td>\n",
              "    </tr>\n",
              "    <tr>\n",
              "      <th>video-games</th>\n",
              "      <td>40</td>\n",
              "      <td>10</td>\n",
              "    </tr>\n",
              "    <tr>\n",
              "      <th>yachting</th>\n",
              "      <td>37</td>\n",
              "      <td>16</td>\n",
              "    </tr>\n",
              "  </tbody>\n",
              "</table>\n",
              "</div>"
            ],
            "text/plain": [
              "fraud_reported    N   Y\n",
              "insured_hobbies        \n",
              "base-jumping     36  13\n",
              "basketball       28   6\n",
              "board-games      34  14\n",
              "bungie-jumping   47   9\n",
              "camping          50   5\n",
              "chess             8  38\n",
              "cross-fit         9  26\n",
              "dancing          38   5\n",
              "exercise         46  11\n",
              "golf             49   6\n",
              "hiking           40  12\n",
              "kayaking         49   5\n",
              "movies           46   9\n",
              "paintball        44  13\n",
              "polo             34  13\n",
              "reading          47  17\n",
              "skydiving        38  11\n",
              "sleeping         33   8\n",
              "video-games      40  10\n",
              "yachting         37  16"
            ]
          },
          "execution_count": 35,
          "metadata": {},
          "output_type": "execute_result"
        }
      ],
      "source": [
        "#insured hobbies v/s fraud reported\n",
        "\n",
        "cross_tab('insured_hobbies','fraud_reported')"
      ]
    },
    {
      "cell_type": "code",
      "execution_count": null,
      "id": "fewer-protection",
      "metadata": {
        "execution": {
          "iopub.execute_input": "2021-05-05T15:56:11.766750Z",
          "iopub.status.busy": "2021-05-05T15:56:11.766065Z",
          "iopub.status.idle": "2021-05-05T15:56:12.357728Z",
          "shell.execute_reply": "2021-05-05T15:56:12.357169Z"
        },
        "papermill": {
          "duration": 0.674682,
          "end_time": "2021-05-05T15:56:12.357874",
          "exception": false,
          "start_time": "2021-05-05T15:56:11.683192",
          "status": "completed"
        },
        "tags": [],
        "id": "fewer-protection",
        "outputId": "b85d1ba3-7370-4da8-bffe-15915db85a7f"
      },
      "outputs": [
        {
          "data": {
            "text/plain": [
              "(array([ 0,  1,  2,  3,  4,  5,  6,  7,  8,  9, 10, 11, 12, 13, 14, 15, 16,\n",
              "        17, 18, 19]),\n",
              " [Text(0, 0, 'sleeping'),\n",
              "  Text(1, 0, 'reading'),\n",
              "  Text(2, 0, 'board-games'),\n",
              "  Text(3, 0, 'bungie-jumping'),\n",
              "  Text(4, 0, 'base-jumping'),\n",
              "  Text(5, 0, 'golf'),\n",
              "  Text(6, 0, 'camping'),\n",
              "  Text(7, 0, 'dancing'),\n",
              "  Text(8, 0, 'skydiving'),\n",
              "  Text(9, 0, 'movies'),\n",
              "  Text(10, 0, 'hiking'),\n",
              "  Text(11, 0, 'yachting'),\n",
              "  Text(12, 0, 'paintball'),\n",
              "  Text(13, 0, 'chess'),\n",
              "  Text(14, 0, 'kayaking'),\n",
              "  Text(15, 0, 'polo'),\n",
              "  Text(16, 0, 'basketball'),\n",
              "  Text(17, 0, 'video-games'),\n",
              "  Text(18, 0, 'cross-fit'),\n",
              "  Text(19, 0, 'exercise')])"
            ]
          },
          "execution_count": 36,
          "metadata": {},
          "output_type": "execute_result"
        },
        {
          "data": {
            "image/png": "[encoded data removed]",
            "text/plain": [
              "<Figure size 442.375x360 with 1 Axes>"
            ]
          },
          "metadata": {
            "needs_background": "light"
          },
          "output_type": "display_data"
        }
      ],
      "source": [
        "sns.catplot(data=df_copy,x='insured_hobbies',hue='fraud_reported',kind='count')\n",
        "plt.xticks(rotation = 90)"
      ]
    },
    {
      "cell_type": "code",
      "execution_count": null,
      "id": "occupational-davis",
      "metadata": {
        "execution": {
          "iopub.execute_input": "2021-05-05T15:56:12.518113Z",
          "iopub.status.busy": "2021-05-05T15:56:12.517295Z",
          "iopub.status.idle": "2021-05-05T15:56:12.536174Z",
          "shell.execute_reply": "2021-05-05T15:56:12.535521Z"
        },
        "papermill": {
          "duration": 0.102169,
          "end_time": "2021-05-05T15:56:12.536328",
          "exception": false,
          "start_time": "2021-05-05T15:56:12.434159",
          "status": "completed"
        },
        "tags": [],
        "id": "occupational-davis",
        "outputId": "96f3ea11-762c-4732-b1cb-f0f085394383"
      },
      "outputs": [
        {
          "data": {
            "text/html": [
              "<div>\n",
              "<style scoped>\n",
              "    .dataframe tbody tr th:only-of-type {\n",
              "        vertical-align: middle;\n",
              "    }\n",
              "\n",
              "    .dataframe tbody tr th {\n",
              "        vertical-align: top;\n",
              "    }\n",
              "\n",
              "    .dataframe thead th {\n",
              "        text-align: right;\n",
              "    }\n",
              "</style>\n",
              "<table border=\"1\" class=\"dataframe\">\n",
              "  <thead>\n",
              "    <tr style=\"text-align: right;\">\n",
              "      <th>fraud_reported</th>\n",
              "      <th>N</th>\n",
              "      <th>Y</th>\n",
              "    </tr>\n",
              "    <tr>\n",
              "      <th>insured_relationship</th>\n",
              "      <th></th>\n",
              "      <th></th>\n",
              "    </tr>\n",
              "  </thead>\n",
              "  <tbody>\n",
              "    <tr>\n",
              "      <th>husband</th>\n",
              "      <td>135</td>\n",
              "      <td>35</td>\n",
              "    </tr>\n",
              "    <tr>\n",
              "      <th>not-in-family</th>\n",
              "      <td>129</td>\n",
              "      <td>45</td>\n",
              "    </tr>\n",
              "    <tr>\n",
              "      <th>other-relative</th>\n",
              "      <td>125</td>\n",
              "      <td>52</td>\n",
              "    </tr>\n",
              "    <tr>\n",
              "      <th>own-child</th>\n",
              "      <td>144</td>\n",
              "      <td>39</td>\n",
              "    </tr>\n",
              "    <tr>\n",
              "      <th>unmarried</th>\n",
              "      <td>107</td>\n",
              "      <td>34</td>\n",
              "    </tr>\n",
              "    <tr>\n",
              "      <th>wife</th>\n",
              "      <td>113</td>\n",
              "      <td>42</td>\n",
              "    </tr>\n",
              "  </tbody>\n",
              "</table>\n",
              "</div>"
            ],
            "text/plain": [
              "fraud_reported          N   Y\n",
              "insured_relationship         \n",
              "husband               135  35\n",
              "not-in-family         129  45\n",
              "other-relative        125  52\n",
              "own-child             144  39\n",
              "unmarried             107  34\n",
              "wife                  113  42"
            ]
          },
          "execution_count": 37,
          "metadata": {},
          "output_type": "execute_result"
        }
      ],
      "source": [
        "#insured relationship v/s fraud reported\n",
        "\n",
        "cross_tab('insured_relationship','fraud_reported')"
      ]
    },
    {
      "cell_type": "code",
      "execution_count": null,
      "id": "united-female",
      "metadata": {
        "execution": {
          "iopub.execute_input": "2021-05-05T15:56:12.701463Z",
          "iopub.status.busy": "2021-05-05T15:56:12.698604Z",
          "iopub.status.idle": "2021-05-05T15:56:13.085678Z",
          "shell.execute_reply": "2021-05-05T15:56:13.085124Z"
        },
        "papermill": {
          "duration": 0.472275,
          "end_time": "2021-05-05T15:56:13.085825",
          "exception": false,
          "start_time": "2021-05-05T15:56:12.613550",
          "status": "completed"
        },
        "tags": [],
        "id": "united-female",
        "outputId": "7d3b8a00-4136-411d-884d-b5c93da50f52"
      },
      "outputs": [
        {
          "data": {
            "text/plain": [
              "(array([0, 1, 2, 3, 4, 5]),\n",
              " [Text(0, 0, 'husband'),\n",
              "  Text(1, 0, 'other-relative'),\n",
              "  Text(2, 0, 'own-child'),\n",
              "  Text(3, 0, 'unmarried'),\n",
              "  Text(4, 0, 'wife'),\n",
              "  Text(5, 0, 'not-in-family')])"
            ]
          },
          "execution_count": 38,
          "metadata": {},
          "output_type": "execute_result"
        },
        {
          "data": {
            "image/png": "[encoded data removed]",
            "text/plain": [
              "<Figure size 442.375x360 with 1 Axes>"
            ]
          },
          "metadata": {
            "needs_background": "light"
          },
          "output_type": "display_data"
        }
      ],
      "source": [
        "sns.catplot(data=df_copy,x='insured_relationship',hue='fraud_reported',kind='count')\n",
        "plt.xticks(rotation = 90)"
      ]
    },
    {
      "cell_type": "code",
      "execution_count": null,
      "id": "computational-cholesterol",
      "metadata": {
        "execution": {
          "iopub.execute_input": "2021-05-05T15:56:13.263702Z",
          "iopub.status.busy": "2021-05-05T15:56:13.250925Z",
          "iopub.status.idle": "2021-05-05T15:56:13.273430Z",
          "shell.execute_reply": "2021-05-05T15:56:13.272872Z"
        },
        "papermill": {
          "duration": 0.108848,
          "end_time": "2021-05-05T15:56:13.273569",
          "exception": false,
          "start_time": "2021-05-05T15:56:13.164721",
          "status": "completed"
        },
        "tags": [],
        "id": "computational-cholesterol",
        "outputId": "9b91a6c3-fd88-475f-e7b0-12a64ab765c8"
      },
      "outputs": [
        {
          "data": {
            "text/html": [
              "<div>\n",
              "<style scoped>\n",
              "    .dataframe tbody tr th:only-of-type {\n",
              "        vertical-align: middle;\n",
              "    }\n",
              "\n",
              "    .dataframe tbody tr th {\n",
              "        vertical-align: top;\n",
              "    }\n",
              "\n",
              "    .dataframe thead th {\n",
              "        text-align: right;\n",
              "    }\n",
              "</style>\n",
              "<table border=\"1\" class=\"dataframe\">\n",
              "  <thead>\n",
              "    <tr style=\"text-align: right;\">\n",
              "      <th>fraud_reported</th>\n",
              "      <th>N</th>\n",
              "      <th>Y</th>\n",
              "    </tr>\n",
              "    <tr>\n",
              "      <th>incident_type</th>\n",
              "      <th></th>\n",
              "      <th></th>\n",
              "    </tr>\n",
              "  </thead>\n",
              "  <tbody>\n",
              "    <tr>\n",
              "      <th>Multi-vehicle Collision</th>\n",
              "      <td>305</td>\n",
              "      <td>114</td>\n",
              "    </tr>\n",
              "    <tr>\n",
              "      <th>Parked Car</th>\n",
              "      <td>76</td>\n",
              "      <td>8</td>\n",
              "    </tr>\n",
              "    <tr>\n",
              "      <th>Single Vehicle Collision</th>\n",
              "      <td>286</td>\n",
              "      <td>117</td>\n",
              "    </tr>\n",
              "    <tr>\n",
              "      <th>Vehicle Theft</th>\n",
              "      <td>86</td>\n",
              "      <td>8</td>\n",
              "    </tr>\n",
              "  </tbody>\n",
              "</table>\n",
              "</div>"
            ],
            "text/plain": [
              "fraud_reported              N    Y\n",
              "incident_type                     \n",
              "Multi-vehicle Collision   305  114\n",
              "Parked Car                 76    8\n",
              "Single Vehicle Collision  286  117\n",
              "Vehicle Theft              86    8"
            ]
          },
          "execution_count": 39,
          "metadata": {},
          "output_type": "execute_result"
        }
      ],
      "source": [
        "#incident type v/s fraud reported\n",
        "\n",
        "cross_tab('incident_type','fraud_reported')"
      ]
    },
    {
      "cell_type": "code",
      "execution_count": null,
      "id": "little-manufacturer",
      "metadata": {
        "execution": {
          "iopub.execute_input": "2021-05-05T15:56:13.459813Z",
          "iopub.status.busy": "2021-05-05T15:56:13.458065Z",
          "iopub.status.idle": "2021-05-05T15:56:13.796458Z",
          "shell.execute_reply": "2021-05-05T15:56:13.795686Z"
        },
        "papermill": {
          "duration": 0.444156,
          "end_time": "2021-05-05T15:56:13.796602",
          "exception": false,
          "start_time": "2021-05-05T15:56:13.352446",
          "status": "completed"
        },
        "tags": [],
        "id": "little-manufacturer",
        "outputId": "88bd534e-6dd1-4754-c5aa-d617e29b0e20"
      },
      "outputs": [
        {
          "data": {
            "text/plain": [
              "(array([0, 1, 2, 3]),\n",
              " [Text(0, 0, 'Single Vehicle Collision'),\n",
              "  Text(1, 0, 'Vehicle Theft'),\n",
              "  Text(2, 0, 'Multi-vehicle Collision'),\n",
              "  Text(3, 0, 'Parked Car')])"
            ]
          },
          "execution_count": 40,
          "metadata": {},
          "output_type": "execute_result"
        },
        {
          "data": {
            "image/png": "[encoded data removed]",
            "text/plain": [
              "<Figure size 442.375x360 with 1 Axes>"
            ]
          },
          "metadata": {
            "needs_background": "light"
          },
          "output_type": "display_data"
        }
      ],
      "source": [
        "#incident type v/s fraud reported\n",
        "\n",
        "sns.catplot(data=df_copy,x='incident_type',hue='fraud_reported',kind='count')\n",
        "plt.xticks(rotation = 90)"
      ]
    },
    {
      "cell_type": "code",
      "execution_count": null,
      "id": "super-bulletin",
      "metadata": {
        "execution": {
          "iopub.execute_input": "2021-05-05T15:56:13.969330Z",
          "iopub.status.busy": "2021-05-05T15:56:13.968483Z",
          "iopub.status.idle": "2021-05-05T15:56:13.988308Z",
          "shell.execute_reply": "2021-05-05T15:56:13.987733Z"
        },
        "papermill": {
          "duration": 0.106506,
          "end_time": "2021-05-05T15:56:13.988451",
          "exception": false,
          "start_time": "2021-05-05T15:56:13.881945",
          "status": "completed"
        },
        "tags": [],
        "id": "super-bulletin",
        "outputId": "108fcae4-3f07-4c5b-e530-352d7a55a7c9"
      },
      "outputs": [
        {
          "data": {
            "text/html": [
              "<div>\n",
              "<style scoped>\n",
              "    .dataframe tbody tr th:only-of-type {\n",
              "        vertical-align: middle;\n",
              "    }\n",
              "\n",
              "    .dataframe tbody tr th {\n",
              "        vertical-align: top;\n",
              "    }\n",
              "\n",
              "    .dataframe thead th {\n",
              "        text-align: right;\n",
              "    }\n",
              "</style>\n",
              "<table border=\"1\" class=\"dataframe\">\n",
              "  <thead>\n",
              "    <tr style=\"text-align: right;\">\n",
              "      <th>fraud_reported</th>\n",
              "      <th>N</th>\n",
              "      <th>Y</th>\n",
              "    </tr>\n",
              "    <tr>\n",
              "      <th>collision_type</th>\n",
              "      <th></th>\n",
              "      <th></th>\n",
              "    </tr>\n",
              "  </thead>\n",
              "  <tbody>\n",
              "    <tr>\n",
              "      <th>Front Collision</th>\n",
              "      <td>184</td>\n",
              "      <td>70</td>\n",
              "    </tr>\n",
              "    <tr>\n",
              "      <th>Rear Collision</th>\n",
              "      <td>363</td>\n",
              "      <td>107</td>\n",
              "    </tr>\n",
              "    <tr>\n",
              "      <th>Side Collision</th>\n",
              "      <td>206</td>\n",
              "      <td>70</td>\n",
              "    </tr>\n",
              "  </tbody>\n",
              "</table>\n",
              "</div>"
            ],
            "text/plain": [
              "fraud_reported     N    Y\n",
              "collision_type           \n",
              "Front Collision  184   70\n",
              "Rear Collision   363  107\n",
              "Side Collision   206   70"
            ]
          },
          "execution_count": 41,
          "metadata": {},
          "output_type": "execute_result"
        }
      ],
      "source": [
        "#collision type v/s fraud reported\n",
        "\n",
        "cross_tab('collision_type','fraud_reported')"
      ]
    },
    {
      "cell_type": "code",
      "execution_count": null,
      "id": "dried-privilege",
      "metadata": {
        "execution": {
          "iopub.execute_input": "2021-05-05T15:56:14.161776Z",
          "iopub.status.busy": "2021-05-05T15:56:14.161039Z",
          "iopub.status.idle": "2021-05-05T15:56:14.538684Z",
          "shell.execute_reply": "2021-05-05T15:56:14.539157Z"
        },
        "papermill": {
          "duration": 0.467825,
          "end_time": "2021-05-05T15:56:14.539381",
          "exception": false,
          "start_time": "2021-05-05T15:56:14.071556",
          "status": "completed"
        },
        "tags": [],
        "id": "dried-privilege",
        "outputId": "88d70fe9-1988-41ef-b490-a39328d1ac3a"
      },
      "outputs": [
        {
          "data": {
            "text/plain": [
              "(array([0, 1, 2]),\n",
              " [Text(0, 0, 'Side Collision'),\n",
              "  Text(1, 0, 'Rear Collision'),\n",
              "  Text(2, 0, 'Front Collision')])"
            ]
          },
          "execution_count": 42,
          "metadata": {},
          "output_type": "execute_result"
        },
        {
          "data": {
            "image/png": "[encoded data removed]",
            "text/plain": [
              "<Figure size 442.375x360 with 1 Axes>"
            ]
          },
          "metadata": {
            "needs_background": "light"
          },
          "output_type": "display_data"
        }
      ],
      "source": [
        "sns.catplot(data=df_copy,x='collision_type',hue='fraud_reported',kind='count')\n",
        "plt.xticks(rotation = 90)"
      ]
    },
    {
      "cell_type": "code",
      "execution_count": null,
      "id": "interstate-messaging",
      "metadata": {
        "execution": {
          "iopub.execute_input": "2021-05-05T15:56:14.731514Z",
          "iopub.status.busy": "2021-05-05T15:56:14.720043Z",
          "iopub.status.idle": "2021-05-05T15:56:14.741634Z",
          "shell.execute_reply": "2021-05-05T15:56:14.741059Z"
        },
        "papermill": {
          "duration": 0.11574,
          "end_time": "2021-05-05T15:56:14.741775",
          "exception": false,
          "start_time": "2021-05-05T15:56:14.626035",
          "status": "completed"
        },
        "tags": [],
        "id": "interstate-messaging",
        "outputId": "42648bdb-838c-4605-adb3-2bade4dbd694"
      },
      "outputs": [
        {
          "data": {
            "text/html": [
              "<div>\n",
              "<style scoped>\n",
              "    .dataframe tbody tr th:only-of-type {\n",
              "        vertical-align: middle;\n",
              "    }\n",
              "\n",
              "    .dataframe tbody tr th {\n",
              "        vertical-align: top;\n",
              "    }\n",
              "\n",
              "    .dataframe thead th {\n",
              "        text-align: right;\n",
              "    }\n",
              "</style>\n",
              "<table border=\"1\" class=\"dataframe\">\n",
              "  <thead>\n",
              "    <tr style=\"text-align: right;\">\n",
              "      <th>fraud_reported</th>\n",
              "      <th>N</th>\n",
              "      <th>Y</th>\n",
              "    </tr>\n",
              "    <tr>\n",
              "      <th>incident_severity</th>\n",
              "      <th></th>\n",
              "      <th></th>\n",
              "    </tr>\n",
              "  </thead>\n",
              "  <tbody>\n",
              "    <tr>\n",
              "      <th>Major Damage</th>\n",
              "      <td>109</td>\n",
              "      <td>167</td>\n",
              "    </tr>\n",
              "    <tr>\n",
              "      <th>Minor Damage</th>\n",
              "      <td>316</td>\n",
              "      <td>38</td>\n",
              "    </tr>\n",
              "    <tr>\n",
              "      <th>Total Loss</th>\n",
              "      <td>244</td>\n",
              "      <td>36</td>\n",
              "    </tr>\n",
              "    <tr>\n",
              "      <th>Trivial Damage</th>\n",
              "      <td>84</td>\n",
              "      <td>6</td>\n",
              "    </tr>\n",
              "  </tbody>\n",
              "</table>\n",
              "</div>"
            ],
            "text/plain": [
              "fraud_reported       N    Y\n",
              "incident_severity          \n",
              "Major Damage       109  167\n",
              "Minor Damage       316   38\n",
              "Total Loss         244   36\n",
              "Trivial Damage      84    6"
            ]
          },
          "execution_count": 43,
          "metadata": {},
          "output_type": "execute_result"
        }
      ],
      "source": [
        "#incident severity v/s fraud reported\n",
        "\n",
        "cross_tab('incident_severity','fraud_reported')"
      ]
    },
    {
      "cell_type": "code",
      "execution_count": null,
      "id": "breeding-tamil",
      "metadata": {
        "execution": {
          "iopub.execute_input": "2021-05-05T15:56:14.920182Z",
          "iopub.status.busy": "2021-05-05T15:56:14.919146Z",
          "iopub.status.idle": "2021-05-05T15:56:15.289491Z",
          "shell.execute_reply": "2021-05-05T15:56:15.288872Z"
        },
        "papermill": {
          "duration": 0.461474,
          "end_time": "2021-05-05T15:56:15.289653",
          "exception": false,
          "start_time": "2021-05-05T15:56:14.828179",
          "status": "completed"
        },
        "tags": [],
        "id": "breeding-tamil",
        "outputId": "3c58aff2-db7a-4595-deaf-83ab8d356f85"
      },
      "outputs": [
        {
          "data": {
            "text/plain": [
              "(array([0, 1, 2, 3]),\n",
              " [Text(0, 0, 'Major Damage'),\n",
              "  Text(1, 0, 'Minor Damage'),\n",
              "  Text(2, 0, 'Total Loss'),\n",
              "  Text(3, 0, 'Trivial Damage')])"
            ]
          },
          "execution_count": 44,
          "metadata": {},
          "output_type": "execute_result"
        },
        {
          "data": {
            "image/png": "[encoded data removed]",
            "text/plain": [
              "<Figure size 442.375x360 with 1 Axes>"
            ]
          },
          "metadata": {
            "needs_background": "light"
          },
          "output_type": "display_data"
        }
      ],
      "source": [
        "sns.catplot(data=df_copy,x='incident_severity',hue='fraud_reported',kind='count')\n",
        "plt.xticks(rotation = 90)"
      ]
    },
    {
      "cell_type": "code",
      "execution_count": null,
      "id": "whole-canada",
      "metadata": {
        "execution": {
          "iopub.execute_input": "2021-05-05T15:56:15.472721Z",
          "iopub.status.busy": "2021-05-05T15:56:15.472010Z",
          "iopub.status.idle": "2021-05-05T15:56:15.934068Z",
          "shell.execute_reply": "2021-05-05T15:56:15.934540Z"
        },
        "papermill": {
          "duration": 0.558264,
          "end_time": "2021-05-05T15:56:15.934741",
          "exception": false,
          "start_time": "2021-05-05T15:56:15.376477",
          "status": "completed"
        },
        "tags": [],
        "id": "whole-canada",
        "outputId": "82e83523-79a4-4f53-8f2f-18a1a9c3fe0b"
      },
      "outputs": [
        {
          "data": {
            "text/plain": [
              "(array([0, 1, 2, 3]),\n",
              " [Text(0, 0, 'Major Damage'),\n",
              "  Text(1, 0, 'Minor Damage'),\n",
              "  Text(2, 0, 'Total Loss'),\n",
              "  Text(3, 0, 'Trivial Damage')])"
            ]
          },
          "execution_count": 45,
          "metadata": {},
          "output_type": "execute_result"
        },
        {
          "data": {
            "image/png": "[encoded data removed]",
            "text/plain": [
              "<Figure size 442.375x360 with 1 Axes>"
            ]
          },
          "metadata": {
            "needs_background": "light"
          },
          "output_type": "display_data"
        }
      ],
      "source": [
        "sns.catplot(data =df_copy, x=\"incident_severity\", y=\"property_claim\",hue='fraud_reported',kind='box')\n",
        "plt.xticks(rotation = 90)"
      ]
    },
    {
      "cell_type": "code",
      "execution_count": null,
      "id": "juvenile-serum",
      "metadata": {
        "execution": {
          "iopub.execute_input": "2021-05-05T15:56:16.111636Z",
          "iopub.status.busy": "2021-05-05T15:56:16.110936Z",
          "iopub.status.idle": "2021-05-05T15:56:16.131850Z",
          "shell.execute_reply": "2021-05-05T15:56:16.131189Z"
        },
        "papermill": {
          "duration": 0.109527,
          "end_time": "2021-05-05T15:56:16.131989",
          "exception": false,
          "start_time": "2021-05-05T15:56:16.022462",
          "status": "completed"
        },
        "tags": [],
        "id": "juvenile-serum",
        "outputId": "f07b36a0-c951-4f10-c937-ac54704940a3"
      },
      "outputs": [
        {
          "data": {
            "text/html": [
              "<div>\n",
              "<style scoped>\n",
              "    .dataframe tbody tr th:only-of-type {\n",
              "        vertical-align: middle;\n",
              "    }\n",
              "\n",
              "    .dataframe tbody tr th {\n",
              "        vertical-align: top;\n",
              "    }\n",
              "\n",
              "    .dataframe thead th {\n",
              "        text-align: right;\n",
              "    }\n",
              "</style>\n",
              "<table border=\"1\" class=\"dataframe\">\n",
              "  <thead>\n",
              "    <tr style=\"text-align: right;\">\n",
              "      <th>fraud_reported</th>\n",
              "      <th>N</th>\n",
              "      <th>Y</th>\n",
              "    </tr>\n",
              "    <tr>\n",
              "      <th>authorities_contacted</th>\n",
              "      <th></th>\n",
              "      <th></th>\n",
              "    </tr>\n",
              "  </thead>\n",
              "  <tbody>\n",
              "    <tr>\n",
              "      <th>Ambulance</th>\n",
              "      <td>139</td>\n",
              "      <td>57</td>\n",
              "    </tr>\n",
              "    <tr>\n",
              "      <th>Fire</th>\n",
              "      <td>163</td>\n",
              "      <td>60</td>\n",
              "    </tr>\n",
              "    <tr>\n",
              "      <th>None</th>\n",
              "      <td>85</td>\n",
              "      <td>6</td>\n",
              "    </tr>\n",
              "    <tr>\n",
              "      <th>Other</th>\n",
              "      <td>135</td>\n",
              "      <td>63</td>\n",
              "    </tr>\n",
              "    <tr>\n",
              "      <th>Police</th>\n",
              "      <td>231</td>\n",
              "      <td>61</td>\n",
              "    </tr>\n",
              "  </tbody>\n",
              "</table>\n",
              "</div>"
            ],
            "text/plain": [
              "fraud_reported           N   Y\n",
              "authorities_contacted         \n",
              "Ambulance              139  57\n",
              "Fire                   163  60\n",
              "None                    85   6\n",
              "Other                  135  63\n",
              "Police                 231  61"
            ]
          },
          "execution_count": 46,
          "metadata": {},
          "output_type": "execute_result"
        }
      ],
      "source": [
        "#authorities contacted v/s fraud reported\n",
        "\n",
        "cross_tab('authorities_contacted','fraud_reported')"
      ]
    },
    {
      "cell_type": "code",
      "execution_count": null,
      "id": "activated-capture",
      "metadata": {
        "execution": {
          "iopub.execute_input": "2021-05-05T15:56:16.313832Z",
          "iopub.status.busy": "2021-05-05T15:56:16.312818Z",
          "iopub.status.idle": "2021-05-05T15:56:16.657542Z",
          "shell.execute_reply": "2021-05-05T15:56:16.658022Z"
        },
        "papermill": {
          "duration": 0.439913,
          "end_time": "2021-05-05T15:56:16.658206",
          "exception": false,
          "start_time": "2021-05-05T15:56:16.218293",
          "status": "completed"
        },
        "tags": [],
        "id": "activated-capture",
        "outputId": "02ade311-b88a-4107-be06-cdb0e0c1fb38"
      },
      "outputs": [
        {
          "data": {
            "text/plain": [
              "(array([0, 1, 2, 3, 4]),\n",
              " [Text(0, 0, 'Police'),\n",
              "  Text(1, 0, 'None'),\n",
              "  Text(2, 0, 'Fire'),\n",
              "  Text(3, 0, 'Other'),\n",
              "  Text(4, 0, 'Ambulance')])"
            ]
          },
          "execution_count": 47,
          "metadata": {},
          "output_type": "execute_result"
        },
        {
          "data": {
            "image/png": "[encoded data removed]",
            "text/plain": [
              "<Figure size 442.375x360 with 1 Axes>"
            ]
          },
          "metadata": {
            "needs_background": "light"
          },
          "output_type": "display_data"
        }
      ],
      "source": [
        "sns.catplot(data=df_copy,x='authorities_contacted',hue='fraud_reported',kind='count')\n",
        "plt.xticks(rotation = 90)"
      ]
    },
    {
      "cell_type": "code",
      "execution_count": null,
      "id": "exceptional-carroll",
      "metadata": {
        "execution": {
          "iopub.execute_input": "2021-05-05T15:56:16.836534Z",
          "iopub.status.busy": "2021-05-05T15:56:16.835560Z",
          "iopub.status.idle": "2021-05-05T15:56:16.856982Z",
          "shell.execute_reply": "2021-05-05T15:56:16.856223Z"
        },
        "papermill": {
          "duration": 0.111936,
          "end_time": "2021-05-05T15:56:16.857201",
          "exception": false,
          "start_time": "2021-05-05T15:56:16.745265",
          "status": "completed"
        },
        "tags": [],
        "id": "exceptional-carroll",
        "outputId": "05ef9497-18ae-4dd9-8cc0-90ed5b9670e0"
      },
      "outputs": [
        {
          "data": {
            "text/html": [
              "<div>\n",
              "<style scoped>\n",
              "    .dataframe tbody tr th:only-of-type {\n",
              "        vertical-align: middle;\n",
              "    }\n",
              "\n",
              "    .dataframe tbody tr th {\n",
              "        vertical-align: top;\n",
              "    }\n",
              "\n",
              "    .dataframe thead th {\n",
              "        text-align: right;\n",
              "    }\n",
              "</style>\n",
              "<table border=\"1\" class=\"dataframe\">\n",
              "  <thead>\n",
              "    <tr style=\"text-align: right;\">\n",
              "      <th>fraud_reported</th>\n",
              "      <th>N</th>\n",
              "      <th>Y</th>\n",
              "    </tr>\n",
              "    <tr>\n",
              "      <th>police_report_available</th>\n",
              "      <th></th>\n",
              "      <th></th>\n",
              "    </tr>\n",
              "  </thead>\n",
              "  <tbody>\n",
              "    <tr>\n",
              "      <th>NO</th>\n",
              "      <td>511</td>\n",
              "      <td>175</td>\n",
              "    </tr>\n",
              "    <tr>\n",
              "      <th>YES</th>\n",
              "      <td>242</td>\n",
              "      <td>72</td>\n",
              "    </tr>\n",
              "  </tbody>\n",
              "</table>\n",
              "</div>"
            ],
            "text/plain": [
              "fraud_reported             N    Y\n",
              "police_report_available          \n",
              "NO                       511  175\n",
              "YES                      242   72"
            ]
          },
          "execution_count": 48,
          "metadata": {},
          "output_type": "execute_result"
        }
      ],
      "source": [
        "cross_tab('police_report_available','fraud_reported')"
      ]
    },
    {
      "cell_type": "code",
      "execution_count": null,
      "id": "dried-marshall",
      "metadata": {
        "execution": {
          "iopub.execute_input": "2021-05-05T15:56:17.042734Z",
          "iopub.status.busy": "2021-05-05T15:56:17.041270Z",
          "iopub.status.idle": "2021-05-05T15:56:17.357364Z",
          "shell.execute_reply": "2021-05-05T15:56:17.356719Z"
        },
        "papermill": {
          "duration": 0.412312,
          "end_time": "2021-05-05T15:56:17.357580",
          "exception": false,
          "start_time": "2021-05-05T15:56:16.945268",
          "status": "completed"
        },
        "tags": [],
        "id": "dried-marshall",
        "outputId": "e9ce8b0b-340d-4e0e-dfb2-5fe78a9a49f7"
      },
      "outputs": [
        {
          "data": {
            "text/plain": [
              "(array([0, 1]), [Text(0, 0, 'YES'), Text(1, 0, 'NO')])"
            ]
          },
          "execution_count": 49,
          "metadata": {},
          "output_type": "execute_result"
        },
        {
          "data": {
            "image/png": "[encoded data removed]",
            "text/plain": [
              "<Figure size 442.375x360 with 1 Axes>"
            ]
          },
          "metadata": {
            "needs_background": "light"
          },
          "output_type": "display_data"
        }
      ],
      "source": [
        "\n",
        "sns.catplot(data=df_copy,x='police_report_available',hue='fraud_reported',kind='count')\n",
        "plt.xticks(rotation = 90)"
      ]
    },
    {
      "cell_type": "code",
      "execution_count": null,
      "id": "swedish-rachel",
      "metadata": {
        "execution": {
          "iopub.execute_input": "2021-05-05T15:56:17.550044Z",
          "iopub.status.busy": "2021-05-05T15:56:17.544143Z",
          "iopub.status.idle": "2021-05-05T15:56:17.567028Z",
          "shell.execute_reply": "2021-05-05T15:56:17.567758Z"
        },
        "papermill": {
          "duration": 0.12081,
          "end_time": "2021-05-05T15:56:17.567948",
          "exception": false,
          "start_time": "2021-05-05T15:56:17.447138",
          "status": "completed"
        },
        "tags": [],
        "id": "swedish-rachel",
        "outputId": "f5daf3ae-6dfc-4d50-a8ed-3043b4317903"
      },
      "outputs": [
        {
          "data": {
            "text/html": [
              "<div>\n",
              "<style scoped>\n",
              "    .dataframe tbody tr th:only-of-type {\n",
              "        vertical-align: middle;\n",
              "    }\n",
              "\n",
              "    .dataframe tbody tr th {\n",
              "        vertical-align: top;\n",
              "    }\n",
              "\n",
              "    .dataframe thead th {\n",
              "        text-align: right;\n",
              "    }\n",
              "</style>\n",
              "<table border=\"1\" class=\"dataframe\">\n",
              "  <thead>\n",
              "    <tr style=\"text-align: right;\">\n",
              "      <th>fraud_reported</th>\n",
              "      <th>N</th>\n",
              "      <th>Y</th>\n",
              "    </tr>\n",
              "    <tr>\n",
              "      <th>incident_state</th>\n",
              "      <th></th>\n",
              "      <th></th>\n",
              "    </tr>\n",
              "  </thead>\n",
              "  <tbody>\n",
              "    <tr>\n",
              "      <th>NC</th>\n",
              "      <td>76</td>\n",
              "      <td>34</td>\n",
              "    </tr>\n",
              "    <tr>\n",
              "      <th>NY</th>\n",
              "      <td>204</td>\n",
              "      <td>58</td>\n",
              "    </tr>\n",
              "    <tr>\n",
              "      <th>OH</th>\n",
              "      <td>13</td>\n",
              "      <td>10</td>\n",
              "    </tr>\n",
              "    <tr>\n",
              "      <th>PA</th>\n",
              "      <td>22</td>\n",
              "      <td>8</td>\n",
              "    </tr>\n",
              "    <tr>\n",
              "      <th>SC</th>\n",
              "      <td>175</td>\n",
              "      <td>73</td>\n",
              "    </tr>\n",
              "    <tr>\n",
              "      <th>VA</th>\n",
              "      <td>85</td>\n",
              "      <td>25</td>\n",
              "    </tr>\n",
              "    <tr>\n",
              "      <th>WV</th>\n",
              "      <td>178</td>\n",
              "      <td>39</td>\n",
              "    </tr>\n",
              "  </tbody>\n",
              "</table>\n",
              "</div>"
            ],
            "text/plain": [
              "fraud_reported    N   Y\n",
              "incident_state         \n",
              "NC               76  34\n",
              "NY              204  58\n",
              "OH               13  10\n",
              "PA               22   8\n",
              "SC              175  73\n",
              "VA               85  25\n",
              "WV              178  39"
            ]
          },
          "execution_count": 50,
          "metadata": {},
          "output_type": "execute_result"
        }
      ],
      "source": [
        "#incident state v/s fraud reported\n",
        "\n",
        "cross_tab('incident_state','fraud_reported')"
      ]
    },
    {
      "cell_type": "code",
      "execution_count": null,
      "id": "further-anchor",
      "metadata": {
        "execution": {
          "iopub.execute_input": "2021-05-05T15:56:17.756284Z",
          "iopub.status.busy": "2021-05-05T15:56:17.753346Z",
          "iopub.status.idle": "2021-05-05T15:56:18.143911Z",
          "shell.execute_reply": "2021-05-05T15:56:18.142970Z"
        },
        "papermill": {
          "duration": 0.48614,
          "end_time": "2021-05-05T15:56:18.144141",
          "exception": false,
          "start_time": "2021-05-05T15:56:17.658001",
          "status": "completed"
        },
        "tags": [],
        "id": "further-anchor",
        "outputId": "c168b26e-ddb5-48c5-b3ee-50d9b510acb9"
      },
      "outputs": [
        {
          "data": {
            "text/plain": [
              "<seaborn.axisgrid.FacetGrid at 0x7f4595ee9bd0>"
            ]
          },
          "execution_count": 51,
          "metadata": {},
          "output_type": "execute_result"
        },
        {
          "data": {
            "image/png": "[encoded data removed]",
            "text/plain": [
              "<Figure size 442.375x360 with 1 Axes>"
            ]
          },
          "metadata": {
            "needs_background": "light"
          },
          "output_type": "display_data"
        }
      ],
      "source": [
        "sns.catplot(data=df_copy,x='incident_state',hue='fraud_reported',kind='count')"
      ]
    },
    {
      "cell_type": "code",
      "execution_count": null,
      "id": "quiet-reminder",
      "metadata": {
        "execution": {
          "iopub.execute_input": "2021-05-05T15:56:18.332892Z",
          "iopub.status.busy": "2021-05-05T15:56:18.332195Z",
          "iopub.status.idle": "2021-05-05T15:56:18.351740Z",
          "shell.execute_reply": "2021-05-05T15:56:18.351104Z"
        },
        "papermill": {
          "duration": 0.117027,
          "end_time": "2021-05-05T15:56:18.351888",
          "exception": false,
          "start_time": "2021-05-05T15:56:18.234861",
          "status": "completed"
        },
        "tags": [],
        "id": "quiet-reminder",
        "outputId": "b36ee14c-5521-4636-91f9-a0418b003391"
      },
      "outputs": [
        {
          "data": {
            "text/html": [
              "<div>\n",
              "<style scoped>\n",
              "    .dataframe tbody tr th:only-of-type {\n",
              "        vertical-align: middle;\n",
              "    }\n",
              "\n",
              "    .dataframe tbody tr th {\n",
              "        vertical-align: top;\n",
              "    }\n",
              "\n",
              "    .dataframe thead th {\n",
              "        text-align: right;\n",
              "    }\n",
              "</style>\n",
              "<table border=\"1\" class=\"dataframe\">\n",
              "  <thead>\n",
              "    <tr style=\"text-align: right;\">\n",
              "      <th>fraud_reported</th>\n",
              "      <th>N</th>\n",
              "      <th>Y</th>\n",
              "    </tr>\n",
              "    <tr>\n",
              "      <th>witnesses</th>\n",
              "      <th></th>\n",
              "      <th></th>\n",
              "    </tr>\n",
              "  </thead>\n",
              "  <tbody>\n",
              "    <tr>\n",
              "      <th>0</th>\n",
              "      <td>199</td>\n",
              "      <td>50</td>\n",
              "    </tr>\n",
              "    <tr>\n",
              "      <th>1</th>\n",
              "      <td>195</td>\n",
              "      <td>63</td>\n",
              "    </tr>\n",
              "    <tr>\n",
              "      <th>2</th>\n",
              "      <td>176</td>\n",
              "      <td>74</td>\n",
              "    </tr>\n",
              "    <tr>\n",
              "      <th>3</th>\n",
              "      <td>183</td>\n",
              "      <td>60</td>\n",
              "    </tr>\n",
              "  </tbody>\n",
              "</table>\n",
              "</div>"
            ],
            "text/plain": [
              "fraud_reported    N   Y\n",
              "witnesses              \n",
              "0               199  50\n",
              "1               195  63\n",
              "2               176  74\n",
              "3               183  60"
            ]
          },
          "execution_count": 52,
          "metadata": {},
          "output_type": "execute_result"
        }
      ],
      "source": [
        "#incident withness v/s fraud reported\n",
        "\n",
        "cross_tab('witnesses','fraud_reported')"
      ]
    },
    {
      "cell_type": "code",
      "execution_count": null,
      "id": "preliminary-sheet",
      "metadata": {
        "execution": {
          "iopub.execute_input": "2021-05-05T15:56:18.541358Z",
          "iopub.status.busy": "2021-05-05T15:56:18.540593Z",
          "iopub.status.idle": "2021-05-05T15:56:18.886975Z",
          "shell.execute_reply": "2021-05-05T15:56:18.886412Z"
        },
        "papermill": {
          "duration": 0.443244,
          "end_time": "2021-05-05T15:56:18.887124",
          "exception": false,
          "start_time": "2021-05-05T15:56:18.443880",
          "status": "completed"
        },
        "tags": [],
        "id": "preliminary-sheet",
        "outputId": "6654e11a-9c25-4f11-c9d2-01f2a22568a5"
      },
      "outputs": [
        {
          "data": {
            "text/plain": [
              "(array([0, 1, 2, 3]),\n",
              " [Text(0, 0, '0'), Text(1, 0, '1'), Text(2, 0, '2'), Text(3, 0, '3')])"
            ]
          },
          "execution_count": 53,
          "metadata": {},
          "output_type": "execute_result"
        },
        {
          "data": {
            "image/png": "[encoded data removed]",
            "text/plain": [
              "<Figure size 442.375x360 with 1 Axes>"
            ]
          },
          "metadata": {
            "needs_background": "light"
          },
          "output_type": "display_data"
        }
      ],
      "source": [
        "sns.catplot(data=df_copy,x='witnesses',hue='fraud_reported',kind='count')\n",
        "plt.xticks(rotation = 90)"
      ]
    },
    {
      "cell_type": "code",
      "execution_count": null,
      "id": "corrected-juice",
      "metadata": {
        "execution": {
          "iopub.execute_input": "2021-05-05T15:56:19.082446Z",
          "iopub.status.busy": "2021-05-05T15:56:19.081800Z",
          "iopub.status.idle": "2021-05-05T15:56:19.729874Z",
          "shell.execute_reply": "2021-05-05T15:56:19.730359Z"
        },
        "papermill": {
          "duration": 0.750563,
          "end_time": "2021-05-05T15:56:19.730549",
          "exception": false,
          "start_time": "2021-05-05T15:56:18.979986",
          "status": "completed"
        },
        "tags": [],
        "id": "corrected-juice",
        "outputId": "114a2839-6ddf-4157-a871-f91c49c59d4a"
      },
      "outputs": [
        {
          "data": {
            "text/plain": [
              "(array([0, 1, 2, 3]),\n",
              " [Text(0, 0, 'Single Vehicle Collision'),\n",
              "  Text(1, 0, 'Vehicle Theft'),\n",
              "  Text(2, 0, 'Multi-vehicle Collision'),\n",
              "  Text(3, 0, 'Parked Car')])"
            ]
          },
          "execution_count": 54,
          "metadata": {},
          "output_type": "execute_result"
        },
        {
          "data": {
            "image/png": "[encoded data removed]",
            "text/plain": [
              "<Figure size 442.375x360 with 1 Axes>"
            ]
          },
          "metadata": {
            "needs_background": "light"
          },
          "output_type": "display_data"
        }
      ],
      "source": [
        "#incident type v/s total claim amount WRT fraud reported\n",
        "\n",
        "sns.catplot(data=df_copy,x='incident_type',y='total_claim_amount',hue='fraud_reported',kind='bar')\n",
        "plt.xticks(rotation = 90)"
      ]
    },
    {
      "cell_type": "code",
      "execution_count": null,
      "id": "concrete-landscape",
      "metadata": {
        "execution": {
          "iopub.execute_input": "2021-05-05T15:56:19.930559Z",
          "iopub.status.busy": "2021-05-05T15:56:19.929408Z",
          "iopub.status.idle": "2021-05-05T15:56:20.296336Z",
          "shell.execute_reply": "2021-05-05T15:56:20.295799Z"
        },
        "papermill": {
          "duration": 0.472137,
          "end_time": "2021-05-05T15:56:20.296482",
          "exception": false,
          "start_time": "2021-05-05T15:56:19.824345",
          "status": "completed"
        },
        "tags": [],
        "id": "concrete-landscape",
        "outputId": "3df69076-4b05-440c-dbc0-510901af5bdd"
      },
      "outputs": [
        {
          "data": {
            "text/plain": [
              "Text(0.5, 1.0, 'Fraud reported VS vechile year')"
            ]
          },
          "execution_count": 55,
          "metadata": {},
          "output_type": "execute_result"
        },
        {
          "data": {
            "image/png": "[encoded data removed]",
            "text/plain": [
              "<Figure size 1080x360 with 1 Axes>"
            ]
          },
          "metadata": {
            "needs_background": "light"
          },
          "output_type": "display_data"
        }
      ],
      "source": [
        "\n",
        "\n",
        "plt.figure(figsize = (15, 5))\n",
        "df_temp = df_copy[df_copy.fraud_reported == 'Y']\n",
        "sns.set_style('darkgrid')\n",
        "sns.countplot(x = 'auto_year', data = df_temp)\n",
        "plt.ylabel('No. of fraud reported')\n",
        "plt.title('Fraud reported VS vechile year')"
      ]
    },
    {
      "cell_type": "markdown",
      "id": "later-caution",
      "metadata": {
        "papermill": {
          "duration": 0.096444,
          "end_time": "2021-05-05T15:56:20.489636",
          "exception": false,
          "start_time": "2021-05-05T15:56:20.393192",
          "status": "completed"
        },
        "tags": [],
        "id": "later-caution"
      },
      "source": [
        "# **Conclusion**\n",
        "The insurance claim report dataset was taken from a US insurance company. It had 1000 entries and 39 variables. The dataset had equal division of categorical and numerical variables.\n",
        "\n",
        "EDA done on this dataset gave us a clear understanding on the dependency of variables. The data had a bias to be a genuine report than being fraud. Only a few variables like incident severity, insured hobbies etc... were found to have a significance influence on the target variable, fraud_reported.\n"
      ]
    },
    {
      "cell_type": "code",
      "execution_count": null,
      "id": "fewer-wiring",
      "metadata": {
        "papermill": {
          "duration": 0.095841,
          "end_time": "2021-05-05T15:56:20.680662",
          "exception": false,
          "start_time": "2021-05-05T15:56:20.584821",
          "status": "completed"
        },
        "tags": [],
        "id": "fewer-wiring"
      },
      "outputs": [],
      "source": []
    }
  ],
  "metadata": {
    "kernelspec": {
      "display_name": "Python 3",
      "language": "python",
      "name": "python3"
    },
    "language_info": {
      "codemirror_mode": {
        "name": "ipython",
        "version": 3
      },
      "file_extension": ".py",
      "mimetype": "text/x-python",
      "name": "python",
      "nbconvert_exporter": "python",
      "pygments_lexer": "ipython3",
      "version": "3.8.8"
    },
    "papermill": {
      "default_parameters": {},
      "duration": 31.733675,
      "end_time": "2021-05-05T15:56:21.690230",
      "environment_variables": {},
      "exception": null,
      "input_path": "__notebook__.ipynb",
      "output_path": "__notebook__.ipynb",
      "parameters": {},
      "start_time": "2021-05-05T15:55:49.956555",
      "version": "2.3.3"
    },
    "colab": {
      "provenance": []
    }
  },
  "nbformat": 4,
  "nbformat_minor": 5
}